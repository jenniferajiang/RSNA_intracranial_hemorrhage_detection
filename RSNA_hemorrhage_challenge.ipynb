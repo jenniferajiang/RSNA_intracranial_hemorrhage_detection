{
 "cells": [
  {
   "cell_type": "markdown",
   "metadata": {
    "id": "zG8LYfzuM3Vb"
   },
   "source": [
    "# RSNA Intracranial Hemorrhage Detection Challenge\n",
    "---"
   ]
  },
  {
   "cell_type": "markdown",
   "metadata": {
    "id": "n_tlPF_XMv6A"
   },
   "source": [
    "Import Modules + Set up"
   ]
  },
  {
   "cell_type": "code",
   "execution_count": 2,
   "metadata": {
    "colab": {
     "base_uri": "https://localhost:8080/",
     "height": 136
    },
    "executionInfo": {
     "elapsed": 9920,
     "status": "ok",
     "timestamp": 1601892050342,
     "user": {
      "displayName": "Jennifer Jiang",
      "photoUrl": "https://lh3.googleusercontent.com/a-/AOh14Gi1QmgRqBqkLld6AjPmecU1TtuPsFSds4OgqlRXpQ=s64",
      "userId": "12399726278274806243"
     },
     "user_tz": -60
    },
    "id": "ybWnnZ_Fi7s2",
    "outputId": "1f208450-5cf4-4235-8c84-ce58795a79cf"
   },
   "outputs": [
    {
     "name": "stdout",
     "output_type": "stream",
     "text": [
      "Requirement already satisfied: Pillow in /usr/local/lib/python3.6/dist-packages (7.0.0)\n",
      "Collecting scikit-multilearn\n",
      "\u001b[?25l  Downloading https://files.pythonhosted.org/packages/bb/1f/e6ff649c72a1cdf2c7a1d31eb21705110ce1c5d3e7e26b2cc300e1637272/scikit_multilearn-0.2.0-py3-none-any.whl (89kB)\n",
      "\u001b[K     |████████████████████████████████| 92kB 4.0MB/s \n",
      "\u001b[?25hInstalling collected packages: scikit-multilearn\n",
      "Successfully installed scikit-multilearn-0.2.0\n",
      "Setup complete. Using torch 1.6.0+cu101 _CudaDeviceProperties(name='Tesla T4', major=7, minor=5, total_memory=15079MB, multi_processor_count=40)\n"
     ]
    }
   ],
   "source": [
    "!pip install Pillow\n",
    "!pip install scikit-multilearn\n",
    "\n",
    "from __future__ import print_function, division\n",
    "import PIL\n",
    "from PIL import Image\n",
    "\n",
    "import numpy as np\n",
    "import pandas as pd\n",
    "import seaborn as sns\n",
    "import matplotlib.pyplot as plt\n",
    "\n",
    "import torch\n",
    "import torch.nn as nn\n",
    "import torch.nn.functional as F\n",
    "import torch.optim as optim\n",
    "from torch.optim import lr_scheduler\n",
    "from torch.utils.data import DataLoader, random_split\n",
    "import torchvision\n",
    "from torchvision import datasets, models, transforms\n",
    "from skmultilearn.model_selection import iterative_train_test_split\n",
    "from sklearn.metrics import precision_score, f1_score, accuracy_score, hamming_loss, multilabel_confusion_matrix, classification_report\n",
    "from sklearn.metrics.ranking import roc_auc_score\n",
    "\n",
    "import time\n",
    "import os\n",
    "import copy\n",
    "import warnings\n",
    "warnings.filterwarnings('ignore')\n",
    "np.set_printoptions(suppress=True)\n",
    "\n",
    "print('Setup complete. Using torch %s %s' % (torch.__version__, torch.cuda.get_device_properties(0) if torch.cuda.is_available() else 'CPU'))"
   ]
  },
  {
   "cell_type": "code",
   "execution_count": 3,
   "metadata": {
    "executionInfo": {
     "elapsed": 547,
     "status": "ok",
     "timestamp": 1601892068474,
     "user": {
      "displayName": "Jennifer Jiang",
      "photoUrl": "https://lh3.googleusercontent.com/a-/AOh14Gi1QmgRqBqkLld6AjPmecU1TtuPsFSds4OgqlRXpQ=s64",
      "userId": "12399726278274806243"
     },
     "user_tz": -60
    },
    "id": "9blaVvK3FIww"
   },
   "outputs": [],
   "source": [
    "torch.manual_seed(1995)\n",
    "torch.cuda.manual_seed(1995)\n",
    "np.random.seed(1995)"
   ]
  },
  {
   "cell_type": "code",
   "execution_count": 4,
   "metadata": {
    "colab": {
     "base_uri": "https://localhost:8080/",
     "height": 34
    },
    "executionInfo": {
     "elapsed": 22002,
     "status": "ok",
     "timestamp": 1601892114648,
     "user": {
      "displayName": "Jennifer Jiang",
      "photoUrl": "https://lh3.googleusercontent.com/a-/AOh14Gi1QmgRqBqkLld6AjPmecU1TtuPsFSds4OgqlRXpQ=s64",
      "userId": "12399726278274806243"
     },
     "user_tz": -60
    },
    "id": "ysyJV0LJrzH1",
    "outputId": "6a83fa11-b5d6-4992-d482-4601178ac853"
   },
   "outputs": [
    {
     "name": "stdout",
     "output_type": "stream",
     "text": [
      "Mounted at /content/drive\n"
     ]
    }
   ],
   "source": [
    "from google.colab import drive\n",
    "drive.mount('/content/drive')"
   ]
  },
  {
   "cell_type": "code",
   "execution_count": 5,
   "metadata": {
    "executionInfo": {
     "elapsed": 739,
     "status": "ok",
     "timestamp": 1601892161332,
     "user": {
      "displayName": "Jennifer Jiang",
      "photoUrl": "https://lh3.googleusercontent.com/a-/AOh14Gi1QmgRqBqkLld6AjPmecU1TtuPsFSds4OgqlRXpQ=s64",
      "userId": "12399726278274806243"
     },
     "user_tz": -60
    },
    "id": "CVwgRo7eFlo6"
   },
   "outputs": [],
   "source": [
    "DATA_PATH='/content/drive/My Drive/Colab Notebooks/hemorrhage-data/'"
   ]
  },
  {
   "cell_type": "code",
   "execution_count": 6,
   "metadata": {
    "executionInfo": {
     "elapsed": 966,
     "status": "ok",
     "timestamp": 1601892164427,
     "user": {
      "displayName": "Jennifer Jiang",
      "photoUrl": "https://lh3.googleusercontent.com/a-/AOh14Gi1QmgRqBqkLld6AjPmecU1TtuPsFSds4OgqlRXpQ=s64",
      "userId": "12399726278274806243"
     },
     "user_tz": -60
    },
    "id": "Dt3acbi9hrVQ"
   },
   "outputs": [],
   "source": [
    "plt.ion()"
   ]
  },
  {
   "cell_type": "markdown",
   "metadata": {
    "id": "wsh_y_jsrjl8"
   },
   "source": [
    "# Data Exploration"
   ]
  },
  {
   "cell_type": "markdown",
   "metadata": {
    "id": "TAAeCRRyNtv0"
   },
   "source": [
    "load the labels into dataframe with correct index"
   ]
  },
  {
   "cell_type": "code",
   "execution_count": 7,
   "metadata": {
    "executionInfo": {
     "elapsed": 1229,
     "status": "ok",
     "timestamp": 1601892175582,
     "user": {
      "displayName": "Jennifer Jiang",
      "photoUrl": "https://lh3.googleusercontent.com/a-/AOh14Gi1QmgRqBqkLld6AjPmecU1TtuPsFSds4OgqlRXpQ=s64",
      "userId": "12399726278274806243"
     },
     "user_tz": -60
    },
    "id": "-3zrRujOt0Qg"
   },
   "outputs": [],
   "source": [
    "train_labels = pd.read_csv(DATA_PATH + 'train_labels.csv', index_col=0).reset_index().drop(columns='index')"
   ]
  },
  {
   "cell_type": "code",
   "execution_count": 8,
   "metadata": {
    "colab": {
     "base_uri": "https://localhost:8080/",
     "height": 419
    },
    "executionInfo": {
     "elapsed": 487,
     "status": "ok",
     "timestamp": 1601892193842,
     "user": {
      "displayName": "Jennifer Jiang",
      "photoUrl": "https://lh3.googleusercontent.com/a-/AOh14Gi1QmgRqBqkLld6AjPmecU1TtuPsFSds4OgqlRXpQ=s64",
      "userId": "12399726278274806243"
     },
     "user_tz": -60
    },
    "id": "wGqEoFGttYIO",
    "outputId": "3580b083-337e-4a7a-9273-d26de6c75792"
   },
   "outputs": [
    {
     "data": {
      "text/html": [
       "<div>\n",
       "<style scoped>\n",
       "    .dataframe tbody tr th:only-of-type {\n",
       "        vertical-align: middle;\n",
       "    }\n",
       "\n",
       "    .dataframe tbody tr th {\n",
       "        vertical-align: top;\n",
       "    }\n",
       "\n",
       "    .dataframe thead th {\n",
       "        text-align: right;\n",
       "    }\n",
       "</style>\n",
       "<table border=\"1\" class=\"dataframe\">\n",
       "  <thead>\n",
       "    <tr style=\"text-align: right;\">\n",
       "      <th></th>\n",
       "      <th>ID</th>\n",
       "      <th>epidural</th>\n",
       "      <th>intraparenchymal</th>\n",
       "      <th>subarachnoid</th>\n",
       "    </tr>\n",
       "  </thead>\n",
       "  <tbody>\n",
       "    <tr>\n",
       "      <th>0</th>\n",
       "      <td>train_0</td>\n",
       "      <td>1</td>\n",
       "      <td>0</td>\n",
       "      <td>1</td>\n",
       "    </tr>\n",
       "    <tr>\n",
       "      <th>1</th>\n",
       "      <td>train_1</td>\n",
       "      <td>1</td>\n",
       "      <td>0</td>\n",
       "      <td>0</td>\n",
       "    </tr>\n",
       "    <tr>\n",
       "      <th>2</th>\n",
       "      <td>train_2</td>\n",
       "      <td>1</td>\n",
       "      <td>0</td>\n",
       "      <td>1</td>\n",
       "    </tr>\n",
       "    <tr>\n",
       "      <th>3</th>\n",
       "      <td>train_3</td>\n",
       "      <td>1</td>\n",
       "      <td>0</td>\n",
       "      <td>1</td>\n",
       "    </tr>\n",
       "    <tr>\n",
       "      <th>4</th>\n",
       "      <td>train_4</td>\n",
       "      <td>1</td>\n",
       "      <td>0</td>\n",
       "      <td>0</td>\n",
       "    </tr>\n",
       "    <tr>\n",
       "      <th>...</th>\n",
       "      <td>...</td>\n",
       "      <td>...</td>\n",
       "      <td>...</td>\n",
       "      <td>...</td>\n",
       "    </tr>\n",
       "    <tr>\n",
       "      <th>8537</th>\n",
       "      <td>train_8588</td>\n",
       "      <td>0</td>\n",
       "      <td>0</td>\n",
       "      <td>0</td>\n",
       "    </tr>\n",
       "    <tr>\n",
       "      <th>8538</th>\n",
       "      <td>train_8589</td>\n",
       "      <td>0</td>\n",
       "      <td>0</td>\n",
       "      <td>0</td>\n",
       "    </tr>\n",
       "    <tr>\n",
       "      <th>8539</th>\n",
       "      <td>train_8590</td>\n",
       "      <td>0</td>\n",
       "      <td>0</td>\n",
       "      <td>0</td>\n",
       "    </tr>\n",
       "    <tr>\n",
       "      <th>8540</th>\n",
       "      <td>train_8591</td>\n",
       "      <td>0</td>\n",
       "      <td>0</td>\n",
       "      <td>0</td>\n",
       "    </tr>\n",
       "    <tr>\n",
       "      <th>8541</th>\n",
       "      <td>train_8592</td>\n",
       "      <td>0</td>\n",
       "      <td>0</td>\n",
       "      <td>0</td>\n",
       "    </tr>\n",
       "  </tbody>\n",
       "</table>\n",
       "<p>8542 rows × 4 columns</p>\n",
       "</div>"
      ],
      "text/plain": [
       "              ID  epidural  intraparenchymal  subarachnoid\n",
       "0        train_0         1                 0             1\n",
       "1        train_1         1                 0             0\n",
       "2        train_2         1                 0             1\n",
       "3        train_3         1                 0             1\n",
       "4        train_4         1                 0             0\n",
       "...          ...       ...               ...           ...\n",
       "8537  train_8588         0                 0             0\n",
       "8538  train_8589         0                 0             0\n",
       "8539  train_8590         0                 0             0\n",
       "8540  train_8591         0                 0             0\n",
       "8541  train_8592         0                 0             0\n",
       "\n",
       "[8542 rows x 4 columns]"
      ]
     },
     "execution_count": 8,
     "metadata": {
      "tags": []
     },
     "output_type": "execute_result"
    }
   ],
   "source": [
    "train_labels"
   ]
  },
  {
   "cell_type": "markdown",
   "metadata": {
    "id": "yTM5K16oNy9F"
   },
   "source": [
    "check there are no missing data or NaNs"
   ]
  },
  {
   "cell_type": "code",
   "execution_count": 9,
   "metadata": {
    "colab": {
     "base_uri": "https://localhost:8080/",
     "height": 102
    },
    "executionInfo": {
     "elapsed": 699,
     "status": "ok",
     "timestamp": 1601892214583,
     "user": {
      "displayName": "Jennifer Jiang",
      "photoUrl": "https://lh3.googleusercontent.com/a-/AOh14Gi1QmgRqBqkLld6AjPmecU1TtuPsFSds4OgqlRXpQ=s64",
      "userId": "12399726278274806243"
     },
     "user_tz": -60
    },
    "id": "5qtnM-hysiY0",
    "outputId": "3b40824d-483c-463e-e712-54743256eaa0"
   },
   "outputs": [
    {
     "data": {
      "text/plain": [
       "ID                  8542\n",
       "epidural            8542\n",
       "intraparenchymal    8542\n",
       "subarachnoid        8542\n",
       "dtype: int64"
      ]
     },
     "execution_count": 9,
     "metadata": {
      "tags": []
     },
     "output_type": "execute_result"
    }
   ],
   "source": [
    "train_labels.count()"
   ]
  },
  {
   "cell_type": "markdown",
   "metadata": {
    "id": "nQgkpGc9N38m"
   },
   "source": [
    "check the distribution of data for any imbalance"
   ]
  },
  {
   "cell_type": "code",
   "execution_count": 10,
   "metadata": {
    "colab": {
     "base_uri": "https://localhost:8080/",
     "height": 111
    },
    "executionInfo": {
     "elapsed": 471,
     "status": "ok",
     "timestamp": 1601892230618,
     "user": {
      "displayName": "Jennifer Jiang",
      "photoUrl": "https://lh3.googleusercontent.com/a-/AOh14Gi1QmgRqBqkLld6AjPmecU1TtuPsFSds4OgqlRXpQ=s64",
      "userId": "12399726278274806243"
     },
     "user_tz": -60
    },
    "id": "dr2Pk3mexRcU",
    "outputId": "5752ee90-7044-4c4a-da5a-2713a1b0f28c"
   },
   "outputs": [
    {
     "data": {
      "text/html": [
       "<div>\n",
       "<style scoped>\n",
       "    .dataframe tbody tr th:only-of-type {\n",
       "        vertical-align: middle;\n",
       "    }\n",
       "\n",
       "    .dataframe tbody tr th {\n",
       "        vertical-align: top;\n",
       "    }\n",
       "\n",
       "    .dataframe thead th {\n",
       "        text-align: right;\n",
       "    }\n",
       "</style>\n",
       "<table border=\"1\" class=\"dataframe\">\n",
       "  <thead>\n",
       "    <tr style=\"text-align: right;\">\n",
       "      <th></th>\n",
       "      <th>epidural</th>\n",
       "      <th>intraparenchymal</th>\n",
       "      <th>subarachnoid</th>\n",
       "    </tr>\n",
       "  </thead>\n",
       "  <tbody>\n",
       "    <tr>\n",
       "      <th>0</th>\n",
       "      <td>8201</td>\n",
       "      <td>5350</td>\n",
       "      <td>5584</td>\n",
       "    </tr>\n",
       "    <tr>\n",
       "      <th>1</th>\n",
       "      <td>341</td>\n",
       "      <td>3192</td>\n",
       "      <td>2958</td>\n",
       "    </tr>\n",
       "  </tbody>\n",
       "</table>\n",
       "</div>"
      ],
      "text/plain": [
       "   epidural  intraparenchymal  subarachnoid\n",
       "0      8201              5350          5584\n",
       "1       341              3192          2958"
      ]
     },
     "execution_count": 10,
     "metadata": {
      "tags": []
     },
     "output_type": "execute_result"
    }
   ],
   "source": [
    "label_counts = train_labels[[\"epidural\", \"intraparenchymal\", \"subarachnoid\"]].apply(pd.Series.value_counts)\n",
    "label_counts"
   ]
  },
  {
   "cell_type": "markdown",
   "metadata": {
    "id": "gZ-BzFM9N9Nb"
   },
   "source": [
    "Check the overall distribution between positive and negative labels - there are much more negative cases than positive cases, as is often the case with medical data"
   ]
  },
  {
   "cell_type": "code",
   "execution_count": 11,
   "metadata": {
    "colab": {
     "base_uri": "https://localhost:8080/",
     "height": 299
    },
    "executionInfo": {
     "elapsed": 708,
     "status": "ok",
     "timestamp": 1601892274200,
     "user": {
      "displayName": "Jennifer Jiang",
      "photoUrl": "https://lh3.googleusercontent.com/a-/AOh14Gi1QmgRqBqkLld6AjPmecU1TtuPsFSds4OgqlRXpQ=s64",
      "userId": "12399726278274806243"
     },
     "user_tz": -60
    },
    "id": "8PsJ0vpK0Ei2",
    "outputId": "468d6e79-9c89-4903-92f1-b86eaed5bc65"
   },
   "outputs": [
    {
     "data": {
      "text/plain": [
       "<matplotlib.axes._subplots.AxesSubplot at 0x7f2ec16a6710>"
      ]
     },
     "execution_count": 11,
     "metadata": {
      "tags": []
     },
     "output_type": "execute_result"
    },
    {
     "data": {
      "image/png": "[encoded data removed]",
      "text/plain": [
       "<Figure size 432x288 with 1 Axes>"
      ]
     },
     "metadata": {
      "needs_background": "light",
      "tags": []
     },
     "output_type": "display_data"
    }
   ],
   "source": [
    "sns.countplot(data=pd.melt(train_labels[[\"epidural\", \"intraparenchymal\",\"subarachnoid\"]]),x='value', palette='pastel')"
   ]
  },
  {
   "cell_type": "markdown",
   "metadata": {
    "id": "zLeT552oOGB1"
   },
   "source": [
    "Check the distribution between classes - from here we can see epidural hemorrhages are underrepresented as they are much rarer than the other two"
   ]
  },
  {
   "cell_type": "code",
   "execution_count": 12,
   "metadata": {
    "colab": {
     "base_uri": "https://localhost:8080/",
     "height": 282
    },
    "executionInfo": {
     "elapsed": 500,
     "status": "ok",
     "timestamp": 1601892291714,
     "user": {
      "displayName": "Jennifer Jiang",
      "photoUrl": "https://lh3.googleusercontent.com/a-/AOh14Gi1QmgRqBqkLld6AjPmecU1TtuPsFSds4OgqlRXpQ=s64",
      "userId": "12399726278274806243"
     },
     "user_tz": -60
    },
    "id": "Pgjnz1pa1a6d",
    "outputId": "ddeac737-20aa-4e14-d9a2-c632743b9b41"
   },
   "outputs": [
    {
     "data": {
      "text/plain": [
       "<matplotlib.axes._subplots.AxesSubplot at 0x7f2ec15ebb70>"
      ]
     },
     "execution_count": 12,
     "metadata": {
      "tags": []
     },
     "output_type": "execute_result"
    },
    {
     "data": {
      "image/png": "[encoded data removed]",
      "text/plain": [
       "<Figure size 432x288 with 1 Axes>"
      ]
     },
     "metadata": {
      "needs_background": "light",
      "tags": []
     },
     "output_type": "display_data"
    }
   ],
   "source": [
    "sns.barplot(x=label_counts.columns, y=label_counts.iloc[1], palette='pastel')"
   ]
  },
  {
   "cell_type": "markdown",
   "metadata": {
    "id": "hTOejoS_-svO"
   },
   "source": [
    "# Data Preprocessing"
   ]
  },
  {
   "cell_type": "markdown",
   "metadata": {
    "id": "HH5rPYPPOP5Z"
   },
   "source": [
    "## Load data from directory"
   ]
  },
  {
   "cell_type": "code",
   "execution_count": 13,
   "metadata": {
    "executionInfo": {
     "elapsed": 523,
     "status": "ok",
     "timestamp": 1601892314797,
     "user": {
      "displayName": "Jennifer Jiang",
      "photoUrl": "https://lh3.googleusercontent.com/a-/AOh14Gi1QmgRqBqkLld6AjPmecU1TtuPsFSds4OgqlRXpQ=s64",
      "userId": "12399726278274806243"
     },
     "user_tz": -60
    },
    "id": "qMZLUkO4lIIm"
   },
   "outputs": [],
   "source": [
    "def load_data(root_dir, labels_df):\n",
    "\n",
    "  data_len = len(labels_df)\n",
    "  all_data = []\n",
    "  all_labels = []\n",
    "  \n",
    "  print(\"loading data...\")\n",
    "\n",
    "  for idx in range(data_len):\n",
    "    if idx % 100 == 0:\n",
    "      print(\"loading index \", idx)\n",
    "\n",
    "    img_name = root_dir + str(labels_df.loc[idx, 'ID']) + '.png'\n",
    "    # print(img_name)\n",
    "    image = Image.open(img_name)\n",
    "    labels = np.array(labels_df.iloc[idx, 1:], dtype=float)\n",
    "\n",
    "    all_data.append(image)\n",
    "    all_labels.append(labels)\n",
    "\n",
    "  return all_data, all_labels"
   ]
  },
  {
   "cell_type": "code",
   "execution_count": 14,
   "metadata": {
    "colab": {
     "base_uri": "https://localhost:8080/",
     "height": 1000
    },
    "executionInfo": {
     "elapsed": 3031751,
     "status": "ok",
     "timestamp": 1601895406506,
     "user": {
      "displayName": "Jennifer Jiang",
      "photoUrl": "https://lh3.googleusercontent.com/a-/AOh14Gi1QmgRqBqkLld6AjPmecU1TtuPsFSds4OgqlRXpQ=s64",
      "userId": "12399726278274806243"
     },
     "user_tz": -60
    },
    "id": "3bdUXVxTxaw8",
    "outputId": "e24f1dae-7361-45e9-e32c-c38bc8d08b34"
   },
   "outputs": [
    {
     "name": "stdout",
     "output_type": "stream",
     "text": [
      "loading data...\n",
      "loading index  0\n",
      "loading index  100\n",
      "loading index  200\n",
      "loading index  300\n",
      "loading index  400\n",
      "loading index  500\n",
      "loading index  600\n",
      "loading index  700\n",
      "loading index  800\n",
      "loading index  900\n",
      "loading index  1000\n",
      "loading index  1100\n",
      "loading index  1200\n",
      "loading index  1300\n",
      "loading index  1400\n",
      "loading index  1500\n",
      "loading index  1600\n",
      "loading index  1700\n",
      "loading index  1800\n",
      "loading index  1900\n",
      "loading index  2000\n",
      "loading index  2100\n",
      "loading index  2200\n",
      "loading index  2300\n",
      "loading index  2400\n",
      "loading index  2500\n",
      "loading index  2600\n",
      "loading index  2700\n",
      "loading index  2800\n",
      "loading index  2900\n",
      "loading index  3000\n",
      "loading index  3100\n",
      "loading index  3200\n",
      "loading index  3300\n",
      "loading index  3400\n",
      "loading index  3500\n",
      "loading index  3600\n",
      "loading index  3700\n",
      "loading index  3800\n",
      "loading index  3900\n",
      "loading index  4000\n",
      "loading index  4100\n",
      "loading index  4200\n",
      "loading index  4300\n",
      "loading index  4400\n",
      "loading index  4500\n",
      "loading index  4600\n",
      "loading index  4700\n",
      "loading index  4800\n",
      "loading index  4900\n",
      "loading index  5000\n",
      "loading index  5100\n",
      "loading index  5200\n",
      "loading index  5300\n",
      "loading index  5400\n",
      "loading index  5500\n",
      "loading index  5600\n",
      "loading index  5700\n",
      "loading index  5800\n",
      "loading index  5900\n",
      "loading index  6000\n",
      "loading index  6100\n",
      "loading index  6200\n",
      "loading index  6300\n",
      "loading index  6400\n",
      "loading index  6500\n",
      "loading index  6600\n",
      "loading index  6700\n",
      "loading index  6800\n",
      "loading index  6900\n",
      "loading index  7000\n",
      "loading index  7100\n",
      "loading index  7200\n",
      "loading index  7300\n",
      "loading index  7400\n",
      "loading index  7500\n",
      "loading index  7600\n",
      "loading index  7700\n",
      "loading index  7800\n",
      "loading index  7900\n",
      "loading index  8000\n",
      "loading index  8100\n",
      "loading index  8200\n",
      "loading index  8300\n",
      "loading index  8400\n",
      "loading index  8500\n"
     ]
    }
   ],
   "source": [
    "all_data, all_labels = load_data(DATA_PATH + 'train_images/', train_labels)"
   ]
  },
  {
   "cell_type": "code",
   "execution_count": 15,
   "metadata": {
    "executionInfo": {
     "elapsed": 471,
     "status": "ok",
     "timestamp": 1601895529589,
     "user": {
      "displayName": "Jennifer Jiang",
      "photoUrl": "https://lh3.googleusercontent.com/a-/AOh14Gi1QmgRqBqkLld6AjPmecU1TtuPsFSds4OgqlRXpQ=s64",
      "userId": "12399726278274806243"
     },
     "user_tz": -60
    },
    "id": "_vVxIAkugSsj"
   },
   "outputs": [],
   "source": [
    "assert len(all_data) == len(all_labels)"
   ]
  },
  {
   "cell_type": "code",
   "execution_count": 16,
   "metadata": {
    "executionInfo": {
     "elapsed": 648,
     "status": "ok",
     "timestamp": 1601895531479,
     "user": {
      "displayName": "Jennifer Jiang",
      "photoUrl": "https://lh3.googleusercontent.com/a-/AOh14Gi1QmgRqBqkLld6AjPmecU1TtuPsFSds4OgqlRXpQ=s64",
      "userId": "12399726278274806243"
     },
     "user_tz": -60
    },
    "id": "FFsmt3cnyI_8"
   },
   "outputs": [],
   "source": [
    "all_data = np.asarray(all_data, dtype=object)\n",
    "all_labels = np.asarray(all_labels, dtype=float)"
   ]
  },
  {
   "cell_type": "code",
   "execution_count": 17,
   "metadata": {
    "colab": {
     "base_uri": "https://localhost:8080/",
     "height": 68
    },
    "executionInfo": {
     "elapsed": 852,
     "status": "ok",
     "timestamp": 1601895533453,
     "user": {
      "displayName": "Jennifer Jiang",
      "photoUrl": "https://lh3.googleusercontent.com/a-/AOh14Gi1QmgRqBqkLld6AjPmecU1TtuPsFSds4OgqlRXpQ=s64",
      "userId": "12399726278274806243"
     },
     "user_tz": -60
    },
    "id": "Hb8PZMT_yoOQ",
    "outputId": "bd6d99b7-56ba-4511-faa4-0b6976924287"
   },
   "outputs": [
    {
     "name": "stdout",
     "output_type": "stream",
     "text": [
      "(8542,)\n",
      "(8542, 3)\n",
      "(8542, 1)\n"
     ]
    }
   ],
   "source": [
    "#reshape the data for next step\n",
    "print(all_data.shape)\n",
    "all_data = np.expand_dims(all_data, 1)\n",
    "print(all_labels.shape)\n",
    "print(all_data.shape)"
   ]
  },
  {
   "cell_type": "markdown",
   "metadata": {
    "id": "mDWidjSpQJi2"
   },
   "source": [
    "## Splitting data into train / val / test"
   ]
  },
  {
   "cell_type": "markdown",
   "metadata": {
    "id": "zfbJl9VeQWQ-"
   },
   "source": [
    "As we saw in # Data Exploration the dataset is highly imbalanced. Here we use iterative_train_test_split to split the data into training, validation, testing (70%, 15%, 15%), which stratifies the multi-label data in each fold ensuring a balanced proportion of each label combination is present.\n",
    "(http://scikit.ml/api/skmultilearn.model_selection.iterative_stratification.html#skmultilearn.model_selection.iterative_stratification.iterative_train_test_split)\n"
   ]
  },
  {
   "cell_type": "code",
   "execution_count": 18,
   "metadata": {
    "executionInfo": {
     "elapsed": 1715,
     "status": "ok",
     "timestamp": 1601895543879,
     "user": {
      "displayName": "Jennifer Jiang",
      "photoUrl": "https://lh3.googleusercontent.com/a-/AOh14Gi1QmgRqBqkLld6AjPmecU1TtuPsFSds4OgqlRXpQ=s64",
      "userId": "12399726278274806243"
     },
     "user_tz": -60
    },
    "id": "WldM2Mxo1hfJ"
   },
   "outputs": [],
   "source": [
    "X, y, test_data, test_labels = iterative_train_test_split(all_data, all_labels, test_size = 0.15)\n",
    "tr_data, tr_labels, val_data, val_labels = iterative_train_test_split(X, y, test_size = 0.15)"
   ]
  },
  {
   "cell_type": "markdown",
   "metadata": {
    "id": "x_S9IYVQSCIM"
   },
   "source": [
    "Using a counter we can verify that the distribution in train/val folds are representative of actual distribution of data"
   ]
  },
  {
   "cell_type": "code",
   "execution_count": 19,
   "metadata": {
    "colab": {
     "base_uri": "https://localhost:8080/",
     "height": 153
    },
    "executionInfo": {
     "elapsed": 918,
     "status": "ok",
     "timestamp": 1601895556806,
     "user": {
      "displayName": "Jennifer Jiang",
      "photoUrl": "https://lh3.googleusercontent.com/a-/AOh14Gi1QmgRqBqkLld6AjPmecU1TtuPsFSds4OgqlRXpQ=s64",
      "userId": "12399726278274806243"
     },
     "user_tz": -60
    },
    "id": "1Ehc6LrRRL35",
    "outputId": "25beb32b-7916-4ed4-ec79-62218d6b8329"
   },
   "outputs": [
    {
     "data": {
      "text/plain": [
       "Counter({'[0. 0. 0.]': 2494,\n",
       "         '[0. 0. 1.]': 1202,\n",
       "         '[0. 1. 0.]': 1360,\n",
       "         '[0. 1. 1.]': 868,\n",
       "         '[1. 0. 0.]': 138,\n",
       "         '[1. 0. 1.]': 31,\n",
       "         '[1. 1. 0.]': 42,\n",
       "         '[1. 1. 1.]': 36})"
      ]
     },
     "execution_count": 19,
     "metadata": {
      "tags": []
     },
     "output_type": "execute_result"
    }
   ],
   "source": [
    "from collections import Counter\n",
    "Counter(str(e) for e in list(tr_labels))"
   ]
  },
  {
   "cell_type": "code",
   "execution_count": 21,
   "metadata": {
    "colab": {
     "base_uri": "https://localhost:8080/",
     "height": 153
    },
    "executionInfo": {
     "elapsed": 1199,
     "status": "ok",
     "timestamp": 1601895571357,
     "user": {
      "displayName": "Jennifer Jiang",
      "photoUrl": "https://lh3.googleusercontent.com/a-/AOh14Gi1QmgRqBqkLld6AjPmecU1TtuPsFSds4OgqlRXpQ=s64",
      "userId": "12399726278274806243"
     },
     "user_tz": -60
    },
    "id": "0-JbAhi1Rm8Q",
    "outputId": "64f07981-b9bf-4f22-ae3a-2be06dedcb45"
   },
   "outputs": [
    {
     "data": {
      "text/plain": [
       "Counter({'[0. 0. 0.]': 3463,\n",
       "         '[0. 0. 1.]': 1654,\n",
       "         '[0. 1. 0.]': 1873,\n",
       "         '[0. 1. 1.]': 1211,\n",
       "         '[1. 0. 0.]': 180,\n",
       "         '[1. 0. 1.]': 53,\n",
       "         '[1. 1. 0.]': 68,\n",
       "         '[1. 1. 1.]': 40})"
      ]
     },
     "execution_count": 21,
     "metadata": {
      "tags": []
     },
     "output_type": "execute_result"
    }
   ],
   "source": [
    "Counter(str(e) for e in list(all_labels))"
   ]
  },
  {
   "cell_type": "code",
   "execution_count": 22,
   "metadata": {
    "colab": {
     "base_uri": "https://localhost:8080/",
     "height": 119
    },
    "executionInfo": {
     "elapsed": 488,
     "status": "ok",
     "timestamp": 1601895625113,
     "user": {
      "displayName": "Jennifer Jiang",
      "photoUrl": "https://lh3.googleusercontent.com/a-/AOh14Gi1QmgRqBqkLld6AjPmecU1TtuPsFSds4OgqlRXpQ=s64",
      "userId": "12399726278274806243"
     },
     "user_tz": -60
    },
    "id": "mAxhAgA86VAv",
    "outputId": "97403eaf-50e5-437a-c2cb-15a2892e5af1"
   },
   "outputs": [
    {
     "name": "stdout",
     "output_type": "stream",
     "text": [
      "train_data shape:  (6171,)\n",
      "train_labels shape:  (6171, 3)\n",
      "val_data shape:  (1089,)\n",
      "val_labels shape:  (1089, 3)\n",
      "test_data shape:  (1282,)\n",
      "test_labels shape:  (1282, 3)\n"
     ]
    }
   ],
   "source": [
    "# check numbers and shapes of our data\n",
    "tr_data = np.squeeze(tr_data)\n",
    "val_data = np.squeeze(val_data)\n",
    "test_data = np.squeeze(test_data)\n",
    "\n",
    "print(\"train_data shape: \", tr_data.shape)\n",
    "print(\"train_labels shape: \", tr_labels.shape)\n",
    "print(\"val_data shape: \", val_data.shape)\n",
    "print(\"val_labels shape: \", val_labels.shape)\n",
    "print(\"test_data shape: \", test_data.shape)\n",
    "print(\"test_labels shape: \", test_labels.shape)"
   ]
  },
  {
   "cell_type": "markdown",
   "metadata": {
    "id": "OrO2GEcJTBPn"
   },
   "source": [
    "## Define custom DataLoader\n",
    "Here we define a custom Dataset class with transforms argument in Pytorch to load our stratify-split datasets."
   ]
  },
  {
   "cell_type": "code",
   "execution_count": 120,
   "metadata": {
    "executionInfo": {
     "elapsed": 674,
     "status": "ok",
     "timestamp": 1601912153129,
     "user": {
      "displayName": "Jennifer Jiang",
      "photoUrl": "https://lh3.googleusercontent.com/a-/AOh14Gi1QmgRqBqkLld6AjPmecU1TtuPsFSds4OgqlRXpQ=s64",
      "userId": "12399726278274806243"
     },
     "user_tz": -60
    },
    "id": "gy8kc-o2L3Ca"
   },
   "outputs": [],
   "source": [
    "class Dataset:\n",
    "\n",
    "    def __init__(self, data, labels, transform=None, load_test=False):\n",
    "      \"\"\"\n",
    "      Args:\n",
    "          data (array): array containing all image objects\n",
    "          labels (array): array containing all labels\n",
    "          transforms (object, optional): optional transforms to be applied\n",
    "          load_test (bool): load directly from folder for test set w/o labels\n",
    "      \"\"\"\n",
    "\n",
    "      self.data = data\n",
    "      self.labels = labels\n",
    "      self.transform = transform\n",
    "      self.load_test = load_test\n",
    "      if load_test:\n",
    "        self.img_names = [f for f in os.listdir(DATA_PATH + 'test_images/') \n",
    "        if not f.startswith('.')]\n",
    "\n",
    "    def __len__(self):\n",
    "      if self.load_test:\n",
    "        return len(self.img_names)\n",
    "      else:\n",
    "        return len(self.labels)\n",
    "\n",
    "    def __getitem__(self, idx):\n",
    "        \"\"\" Here we return the item requested by `idx` and apply transforms\n",
    "            The PyTorch DataLoader class will use this method to make an iterable \n",
    "            for our training or validation loop.\n",
    "        \"\"\"\n",
    "        if torch.is_tensor(idx):\n",
    "          idx = idx.tolist()\n",
    "\n",
    "        if self.load_test:\n",
    "          image = Image.open(DATA_PATH + 'test_images/' + self.img_names[idx]).convert('RGB')\n",
    "          labels = self.img_names[idx]\n",
    "        else:\n",
    "          # convert greyscale image to 3 channels as pretrained models take colour images as input\n",
    "          image = self.data[idx].convert('RGB') \n",
    "          labels = torch.tensor(self.labels[idx], dtype=torch.float32)\n",
    "        \n",
    "        if self.transform is not None:\n",
    "            image = self.transform(image)\n",
    "\n",
    "        return image, labels"
   ]
  },
  {
   "cell_type": "markdown",
   "metadata": {
    "id": "NVgAbahdVyPp"
   },
   "source": [
    "## Define data augmentations\n",
    "Data augmentation is a common strategy to generate more training samples, prevent overfitting, and improve the generalization capabilities of deep networks, especially CNNs. Here we apply a few common transformations using the Pytorch transforms class - random rotation, flip, as well as jitters in contrast. We also resize the data to 224 x 224 as we are using a pretrained network."
   ]
  },
  {
   "cell_type": "code",
   "execution_count": 24,
   "metadata": {
    "executionInfo": {
     "elapsed": 731,
     "status": "ok",
     "timestamp": 1601895973202,
     "user": {
      "displayName": "Jennifer Jiang",
      "photoUrl": "https://lh3.googleusercontent.com/a-/AOh14Gi1QmgRqBqkLld6AjPmecU1TtuPsFSds4OgqlRXpQ=s64",
      "userId": "12399726278274806243"
     },
     "user_tz": -60
    },
    "id": "8DuFrGHd-xZv"
   },
   "outputs": [],
   "source": [
    "# resizing, normalization, and data augmentations for training data\n",
    "train_transforms = transforms.Compose([transforms.Resize(224),\n",
    "                                       transforms.RandomRotation(180),\n",
    "                                       transforms.ColorJitter(contrast=0),\n",
    "                                       transforms.RandomHorizontalFlip(),\n",
    "                                       transforms.ToTensor(),\n",
    "                                       transforms.Normalize([0.485, 0.456, 0.406], [0.229, 0.224, 0.225])\n",
    "    ])\n",
    "\n",
    "# just resizing and normalization for validation data\n",
    "val_transforms = transforms.Compose([transforms.Resize(224),\n",
    "                                     transforms.ToTensor(),\n",
    "                                     transforms.Normalize([0.485, 0.456, 0.406], [0.229, 0.224, 0.225])\n",
    "    ])\n",
    "\n",
    "\n",
    "train_ds = Dataset(tr_data, tr_labels, transform=train_transforms)\n",
    "val_ds = Dataset(val_data, val_labels, transform=val_transforms)\n",
    "test_ds = Dataset(test_data, test_labels, transform=val_transforms)"
   ]
  },
  {
   "cell_type": "code",
   "execution_count": 25,
   "metadata": {
    "colab": {
     "base_uri": "https://localhost:8080/",
     "height": 153
    },
    "executionInfo": {
     "elapsed": 473,
     "status": "ok",
     "timestamp": 1601895985600,
     "user": {
      "displayName": "Jennifer Jiang",
      "photoUrl": "https://lh3.googleusercontent.com/a-/AOh14Gi1QmgRqBqkLld6AjPmecU1TtuPsFSds4OgqlRXpQ=s64",
      "userId": "12399726278274806243"
     },
     "user_tz": -60
    },
    "id": "9IB7XAIK4sqa",
    "outputId": "0ee5b017-ff64-49f1-abcf-f6b3b1e0eef4"
   },
   "outputs": [
    {
     "name": "stdout",
     "output_type": "stream",
     "text": [
      "torch.Size([3, 224, 224])\n",
      "torch.Size([3])\n",
      "torch.Size([3, 224, 224])\n",
      "torch.Size([3])\n",
      "torch.Size([3, 224, 224])\n",
      "torch.Size([3])\n",
      "torch.Size([3, 224, 224])\n",
      "torch.Size([3])\n"
     ]
    }
   ],
   "source": [
    "# sanity check\n",
    "for i in range(len(train_ds)):\n",
    "  sample = train_ds[i]\n",
    "  print(sample[0].shape)\n",
    "  print(sample[1].shape)\n",
    "\n",
    "  if i == 3:\n",
    "    break"
   ]
  },
  {
   "cell_type": "markdown",
   "metadata": {
    "id": "_0Dej9BtqSW_"
   },
   "source": [
    "To address the imbalanced dataset we also use the WeightedRandomSampler in Pytorch, which ensures the samples drawn in each batch are drawn according to the weights given."
   ]
  },
  {
   "cell_type": "code",
   "execution_count": 26,
   "metadata": {
    "executionInfo": {
     "elapsed": 487,
     "status": "ok",
     "timestamp": 1601895992043,
     "user": {
      "displayName": "Jennifer Jiang",
      "photoUrl": "https://lh3.googleusercontent.com/a-/AOh14Gi1QmgRqBqkLld6AjPmecU1TtuPsFSds4OgqlRXpQ=s64",
      "userId": "12399726278274806243"
     },
     "user_tz": -60
    },
    "id": "zSxxE54GBNqf"
   },
   "outputs": [],
   "source": [
    "def make_weights_for_balanced_classes(dataset, label_counts): \n",
    "    # get list of class labels and shuffle                       \n",
    "    labels_list = torch.LongTensor(dataset.labels)\n",
    "    labels_list = labels_list[torch.randperm(len(labels_list))]\n",
    "\n",
    "    # get class counts and calculate weight by taking its reciprocal\n",
    "    class_count = list(label_counts.iloc[1,:])\n",
    "    class_weight = 1./torch.tensor(class_count, dtype=torch.float)\n",
    "\n",
    "    # now assign weight of each class to all samples\n",
    "    class_weights_all = class_weight[labels_list]\n",
    "\n",
    "    return class_weights_all"
   ]
  },
  {
   "cell_type": "code",
   "execution_count": 27,
   "metadata": {
    "colab": {
     "base_uri": "https://localhost:8080/",
     "height": 34
    },
    "executionInfo": {
     "elapsed": 304,
     "status": "ok",
     "timestamp": 1601895993061,
     "user": {
      "displayName": "Jennifer Jiang",
      "photoUrl": "https://lh3.googleusercontent.com/a-/AOh14Gi1QmgRqBqkLld6AjPmecU1TtuPsFSds4OgqlRXpQ=s64",
      "userId": "12399726278274806243"
     },
     "user_tz": -60
    },
    "id": "UdEeJxJ3EHJw",
    "outputId": "5b173f59-5bd7-414d-d601-3e836d5d05c4"
   },
   "outputs": [
    {
     "name": "stdout",
     "output_type": "stream",
     "text": [
      "torch.Size([6171, 3])\n"
     ]
    }
   ],
   "source": [
    "# create a weighted sampler to ensure each class to sampled equally in batches\n",
    "weights = make_weights_for_balanced_classes(train_ds, label_counts)\n",
    "print(weights.shape)\n",
    "sampler = torch.utils.data.sampler.WeightedRandomSampler(weights, len(weights))"
   ]
  },
  {
   "cell_type": "markdown",
   "metadata": {
    "id": "LJCS2mm6qiqZ"
   },
   "source": [
    "Define the batch size and create dataloaders"
   ]
  },
  {
   "cell_type": "code",
   "execution_count": 56,
   "metadata": {
    "executionInfo": {
     "elapsed": 515,
     "status": "ok",
     "timestamp": 1601904919014,
     "user": {
      "displayName": "Jennifer Jiang",
      "photoUrl": "https://lh3.googleusercontent.com/a-/AOh14Gi1QmgRqBqkLld6AjPmecU1TtuPsFSds4OgqlRXpQ=s64",
      "userId": "12399726278274806243"
     },
     "user_tz": -60
    },
    "id": "QQ8Ca8zsPmDm"
   },
   "outputs": [],
   "source": [
    "batch_size = 32\n",
    "\n",
    "class_names = [\"epidural\", \"intraparenchymal\", \"subarachnoid\"]\n",
    "\n",
    "dataloaders = {\"train\": DataLoader(train_ds, shuffle=True, batch_size=batch_size),\n",
    "               \"val\": DataLoader(val_ds, shuffle=True, batch_size=batch_size),\n",
    "               \"test\": DataLoader(test_ds, shuffle=True, batch_size=batch_size)}"
   ]
  },
  {
   "cell_type": "markdown",
   "metadata": {
    "id": "fMGx-pa4aGi_"
   },
   "source": [
    "Visualise a batch of training data to make sure everything is working as expected"
   ]
  },
  {
   "cell_type": "code",
   "execution_count": 33,
   "metadata": {
    "executionInfo": {
     "elapsed": 463,
     "status": "ok",
     "timestamp": 1601896147739,
     "user": {
      "displayName": "Jennifer Jiang",
      "photoUrl": "https://lh3.googleusercontent.com/a-/AOh14Gi1QmgRqBqkLld6AjPmecU1TtuPsFSds4OgqlRXpQ=s64",
      "userId": "12399726278274806243"
     },
     "user_tz": -60
    },
    "id": "ux55UF4FWYEB"
   },
   "outputs": [],
   "source": [
    "def imshow(inp, title=None):\n",
    "    \"\"\"Imshow for Tensor.\"\"\"\n",
    "    inp = inp.numpy().transpose((1, 2, 0))\n",
    "    mean = np.array([0.485, 0.456, 0.406])\n",
    "    std = np.array([0.229, 0.224, 0.225])\n",
    "    inp = std * inp + mean\n",
    "    inp = np.clip(inp, 0, 1)\n",
    "    plt.imshow(inp)\n",
    "    if title is not None:\n",
    "        plt.title(title)\n",
    "    plt.pause(0.001)  # pause a bit so that plots are updated"
   ]
  },
  {
   "cell_type": "code",
   "execution_count": 36,
   "metadata": {
    "colab": {
     "base_uri": "https://localhost:8080/",
     "height": 763
    },
    "executionInfo": {
     "elapsed": 1400,
     "status": "ok",
     "timestamp": 1601896197690,
     "user": {
      "displayName": "Jennifer Jiang",
      "photoUrl": "https://lh3.googleusercontent.com/a-/AOh14Gi1QmgRqBqkLld6AjPmecU1TtuPsFSds4OgqlRXpQ=s64",
      "userId": "12399726278274806243"
     },
     "user_tz": -60
    },
    "id": "BYIlBks5XPdr",
    "outputId": "bd72ffe0-07ba-4e02-c6fa-ea6edb1e3213"
   },
   "outputs": [
    {
     "data": {
      "image/png": "[encoded data removed]",
      "text/plain": [
       "<Figure size 432x288 with 1 Axes>"
      ]
     },
     "metadata": {
      "needs_background": "light",
      "tags": []
     },
     "output_type": "display_data"
    },
    {
     "name": "stdout",
     "output_type": "stream",
     "text": [
      "tensor([[0., 0., 1.],\n",
      "        [0., 1., 1.],\n",
      "        [0., 0., 0.],\n",
      "        [0., 1., 0.],\n",
      "        [0., 0., 0.],\n",
      "        [0., 1., 0.],\n",
      "        [0., 0., 0.],\n",
      "        [0., 1., 0.],\n",
      "        [0., 0., 1.],\n",
      "        [0., 0., 1.],\n",
      "        [0., 0., 0.],\n",
      "        [0., 0., 0.],\n",
      "        [0., 0., 0.],\n",
      "        [0., 1., 0.],\n",
      "        [0., 0., 1.],\n",
      "        [0., 1., 1.],\n",
      "        [0., 1., 0.],\n",
      "        [0., 0., 0.],\n",
      "        [0., 0., 1.],\n",
      "        [0., 1., 1.],\n",
      "        [0., 1., 0.],\n",
      "        [1., 0., 0.],\n",
      "        [0., 0., 0.],\n",
      "        [0., 1., 1.],\n",
      "        [0., 0., 0.],\n",
      "        [0., 0., 1.],\n",
      "        [0., 0., 1.],\n",
      "        [0., 0., 1.],\n",
      "        [0., 1., 0.],\n",
      "        [0., 1., 0.],\n",
      "        [0., 1., 1.],\n",
      "        [0., 1., 0.]])\n"
     ]
    }
   ],
   "source": [
    "# Get a batch of training data\n",
    "inputs, classes = next(iter(dataloaders['train']))\n",
    "\n",
    "# Make a grid from batch\n",
    "out = torchvision.utils.make_grid(inputs)\n",
    "\n",
    "imshow(out)\n",
    "print(classes)"
   ]
  },
  {
   "cell_type": "markdown",
   "metadata": {
    "id": "1FbAV0pRqlIZ"
   },
   "source": [
    "# Defining the Model"
   ]
  },
  {
   "cell_type": "markdown",
   "metadata": {
    "id": "gyXZlkTpqpeA"
   },
   "source": [
    "Here I define a baseline model, which is a simple CNN made of 4 sequential 2D convolutional blocks followed by two linear layers, and a ResNet50 pretrained network, which is used in a transfer learning approach."
   ]
  },
  {
   "cell_type": "markdown",
   "metadata": {
    "id": "Q7pn34lDTnyO"
   },
   "source": [
    "## Baseline Model"
   ]
  },
  {
   "cell_type": "code",
   "execution_count": 37,
   "metadata": {
    "executionInfo": {
     "elapsed": 496,
     "status": "ok",
     "timestamp": 1601896228728,
     "user": {
      "displayName": "Jennifer Jiang",
      "photoUrl": "https://lh3.googleusercontent.com/a-/AOh14Gi1QmgRqBqkLld6AjPmecU1TtuPsFSds4OgqlRXpQ=s64",
      "userId": "12399726278274806243"
     },
     "user_tz": -60
    },
    "id": "TMvxKTzTlSW1"
   },
   "outputs": [],
   "source": [
    "class ConvBlock(nn.Module):\n",
    "    def __init__(self, in_channels, out_channels):\n",
    "        super().__init__()\n",
    "        \n",
    "        self.conv1 = nn.Sequential(\n",
    "            nn.Conv2d(in_channels, out_channels, 3, 1, 1),\n",
    "            nn.BatchNorm2d(out_channels),\n",
    "            nn.ReLU(),\n",
    "        )\n",
    "        self.conv2 = nn.Sequential(\n",
    "            nn.Conv2d(out_channels, out_channels, 3, 1, 1),\n",
    "            nn.BatchNorm2d(out_channels),\n",
    "            nn.ReLU(),\n",
    "        )\n",
    "\n",
    "        self._init_weights()\n",
    "        \n",
    "    def _init_weights(self):\n",
    "        for m in self.modules():\n",
    "          if isinstance(m, nn.Conv2d):\n",
    "            nn.init.kaiming_normal_(m.weight)\n",
    "            if m.bias is not None:\n",
    "              nn.init.zeros_(m.bias)\n",
    "          elif isinstance(m, nn.BatchNorm2d):\n",
    "              nn.init.constant_(m.weight, 1)\n",
    "              nn.init.zeros_(m.bias)\n",
    "        \n",
    "    def forward(self, x):\n",
    "        x = self.conv1(x)\n",
    "        x = self.conv2(x)\n",
    "        x = F.avg_pool2d(x, 2)\n",
    "        return x"
   ]
  },
  {
   "cell_type": "code",
   "execution_count": 38,
   "metadata": {
    "executionInfo": {
     "elapsed": 439,
     "status": "ok",
     "timestamp": 1601896229814,
     "user": {
      "displayName": "Jennifer Jiang",
      "photoUrl": "https://lh3.googleusercontent.com/a-/AOh14Gi1QmgRqBqkLld6AjPmecU1TtuPsFSds4OgqlRXpQ=s64",
      "userId": "12399726278274806243"
     },
     "user_tz": -60
    },
    "id": "nF0Mja-rldER"
   },
   "outputs": [],
   "source": [
    "class Classifier(nn.Module):\n",
    "    def __init__(self, num_classes):\n",
    "        super().__init__()\n",
    "        \n",
    "        self.conv = nn.Sequential(\n",
    "            ConvBlock(in_channels=3, out_channels=64),\n",
    "            ConvBlock(in_channels=64, out_channels=128),\n",
    "            ConvBlock(in_channels=128, out_channels=256),\n",
    "            ConvBlock(in_channels=256, out_channels=512),\n",
    "        )\n",
    "        \n",
    "        self.fc = nn.Sequential(\n",
    "            nn.Dropout(0.2),\n",
    "            nn.Linear(512, 128),\n",
    "            nn.PReLU(),\n",
    "            nn.BatchNorm1d(128),\n",
    "            nn.Dropout(0.1),\n",
    "            nn.Linear(128, num_classes),\n",
    "        )\n",
    "\n",
    "    def forward(self, x):\n",
    "        x = self.conv(x)\n",
    "        x = torch.mean(x, dim=3)\n",
    "        x, _ = torch.max(x, dim=2)\n",
    "        x = self.fc(x)\n",
    "        return x"
   ]
  },
  {
   "cell_type": "code",
   "execution_count": 39,
   "metadata": {
    "executionInfo": {
     "elapsed": 476,
     "status": "ok",
     "timestamp": 1601896231312,
     "user": {
      "displayName": "Jennifer Jiang",
      "photoUrl": "https://lh3.googleusercontent.com/a-/AOh14Gi1QmgRqBqkLld6AjPmecU1TtuPsFSds4OgqlRXpQ=s64",
      "userId": "12399726278274806243"
     },
     "user_tz": -60
    },
    "id": "hj74-7L_lj4Z"
   },
   "outputs": [],
   "source": [
    "base_model=Classifier(3)"
   ]
  },
  {
   "cell_type": "code",
   "execution_count": 40,
   "metadata": {
    "colab": {
     "base_uri": "https://localhost:8080/",
     "height": 1000
    },
    "executionInfo": {
     "elapsed": 331,
     "status": "ok",
     "timestamp": 1601896232246,
     "user": {
      "displayName": "Jennifer Jiang",
      "photoUrl": "https://lh3.googleusercontent.com/a-/AOh14Gi1QmgRqBqkLld6AjPmecU1TtuPsFSds4OgqlRXpQ=s64",
      "userId": "12399726278274806243"
     },
     "user_tz": -60
    },
    "id": "PmdlQgh9lwsO",
    "outputId": "8717b9bc-1782-4111-fec2-787965cc4067"
   },
   "outputs": [
    {
     "data": {
      "text/plain": [
       "Classifier(\n",
       "  (conv): Sequential(\n",
       "    (0): ConvBlock(\n",
       "      (conv1): Sequential(\n",
       "        (0): Conv2d(3, 64, kernel_size=(3, 3), stride=(1, 1), padding=(1, 1))\n",
       "        (1): BatchNorm2d(64, eps=1e-05, momentum=0.1, affine=True, track_running_stats=True)\n",
       "        (2): ReLU()\n",
       "      )\n",
       "      (conv2): Sequential(\n",
       "        (0): Conv2d(64, 64, kernel_size=(3, 3), stride=(1, 1), padding=(1, 1))\n",
       "        (1): BatchNorm2d(64, eps=1e-05, momentum=0.1, affine=True, track_running_stats=True)\n",
       "        (2): ReLU()\n",
       "      )\n",
       "    )\n",
       "    (1): ConvBlock(\n",
       "      (conv1): Sequential(\n",
       "        (0): Conv2d(64, 128, kernel_size=(3, 3), stride=(1, 1), padding=(1, 1))\n",
       "        (1): BatchNorm2d(128, eps=1e-05, momentum=0.1, affine=True, track_running_stats=True)\n",
       "        (2): ReLU()\n",
       "      )\n",
       "      (conv2): Sequential(\n",
       "        (0): Conv2d(128, 128, kernel_size=(3, 3), stride=(1, 1), padding=(1, 1))\n",
       "        (1): BatchNorm2d(128, eps=1e-05, momentum=0.1, affine=True, track_running_stats=True)\n",
       "        (2): ReLU()\n",
       "      )\n",
       "    )\n",
       "    (2): ConvBlock(\n",
       "      (conv1): Sequential(\n",
       "        (0): Conv2d(128, 256, kernel_size=(3, 3), stride=(1, 1), padding=(1, 1))\n",
       "        (1): BatchNorm2d(256, eps=1e-05, momentum=0.1, affine=True, track_running_stats=True)\n",
       "        (2): ReLU()\n",
       "      )\n",
       "      (conv2): Sequential(\n",
       "        (0): Conv2d(256, 256, kernel_size=(3, 3), stride=(1, 1), padding=(1, 1))\n",
       "        (1): BatchNorm2d(256, eps=1e-05, momentum=0.1, affine=True, track_running_stats=True)\n",
       "        (2): ReLU()\n",
       "      )\n",
       "    )\n",
       "    (3): ConvBlock(\n",
       "      (conv1): Sequential(\n",
       "        (0): Conv2d(256, 512, kernel_size=(3, 3), stride=(1, 1), padding=(1, 1))\n",
       "        (1): BatchNorm2d(512, eps=1e-05, momentum=0.1, affine=True, track_running_stats=True)\n",
       "        (2): ReLU()\n",
       "      )\n",
       "      (conv2): Sequential(\n",
       "        (0): Conv2d(512, 512, kernel_size=(3, 3), stride=(1, 1), padding=(1, 1))\n",
       "        (1): BatchNorm2d(512, eps=1e-05, momentum=0.1, affine=True, track_running_stats=True)\n",
       "        (2): ReLU()\n",
       "      )\n",
       "    )\n",
       "  )\n",
       "  (fc): Sequential(\n",
       "    (0): Dropout(p=0.2, inplace=False)\n",
       "    (1): Linear(in_features=512, out_features=128, bias=True)\n",
       "    (2): PReLU(num_parameters=1)\n",
       "    (3): BatchNorm1d(128, eps=1e-05, momentum=0.1, affine=True, track_running_stats=True)\n",
       "    (4): Dropout(p=0.1, inplace=False)\n",
       "    (5): Linear(in_features=128, out_features=3, bias=True)\n",
       "  )\n",
       ")"
      ]
     },
     "execution_count": 40,
     "metadata": {
      "tags": []
     },
     "output_type": "execute_result"
    }
   ],
   "source": [
    "base_model"
   ]
  },
  {
   "cell_type": "markdown",
   "metadata": {
    "id": "c-isy5_FTrGC"
   },
   "source": [
    "## Pretrained ResNet50 model"
   ]
  },
  {
   "cell_type": "markdown",
   "metadata": {
    "id": "WWhRm8E-rMsA"
   },
   "source": [
    "To use ResNet50 for transfer learning we first download the pretrained model, then freeze the entire convolution base and create out own classifier head to replace at the end of the network. "
   ]
  },
  {
   "cell_type": "code",
   "execution_count": 41,
   "metadata": {
    "colab": {
     "base_uri": "https://localhost:8080/",
     "height": 100,
     "referenced_widgets": [
      "dfd0720329f940e4a55dba6621bc4430",
      "5c3678f3a6524a4f98c552f0cc019401",
      "b266132461f74262b1fdd7ecd771f230",
      "a906db9c7148442eb62ca6b286971926",
      "2f0252e51f1c44c98f052f5c024f3331",
      "935b4b11eb7a4711a81e8876616db3d6",
      "21f750fdceb74be6bbacda33e9ec801d",
      "cd2563f2f2b34ec197e5789f4c308dd1"
     ]
    },
    "executionInfo": {
     "elapsed": 1834,
     "status": "ok",
     "timestamp": 1601896235945,
     "user": {
      "displayName": "Jennifer Jiang",
      "photoUrl": "https://lh3.googleusercontent.com/a-/AOh14Gi1QmgRqBqkLld6AjPmecU1TtuPsFSds4OgqlRXpQ=s64",
      "userId": "12399726278274806243"
     },
     "user_tz": -60
    },
    "id": "6B94daDDnEIo",
    "outputId": "dc8c84d8-6842-4b5f-e993-708bb679e574"
   },
   "outputs": [
    {
     "name": "stderr",
     "output_type": "stream",
     "text": [
      "Downloading: \"https://download.pytorch.org/models/resnet50-19c8e357.pth\" to /root/.cache/torch/hub/checkpoints/resnet50-19c8e357.pth\n"
     ]
    },
    {
     "data": {
      "application/vnd.jupyter.widget-view+json": {
       "model_id": "dfd0720329f940e4a55dba6621bc4430",
       "version_major": 2,
       "version_minor": 0
      },
      "text/plain": [
       "HBox(children=(FloatProgress(value=0.0, max=102502400.0), HTML(value='')))"
      ]
     },
     "metadata": {
      "tags": []
     },
     "output_type": "display_data"
    },
    {
     "name": "stdout",
     "output_type": "stream",
     "text": [
      "\n",
      "2048\n"
     ]
    }
   ],
   "source": [
    "model = models.resnet50(pretrained=True) # load the pretrained model\n",
    "num_features = model.fc.in_features # get the num of features in last linear unit\n",
    "print(num_features)\n",
    "\n",
    "# freeze the entire convolution base\n",
    "for param in model.parameters():\n",
    "  param.requires_grad_(False)"
   ]
  },
  {
   "cell_type": "code",
   "execution_count": 42,
   "metadata": {
    "executionInfo": {
     "elapsed": 483,
     "status": "ok",
     "timestamp": 1601896237497,
     "user": {
      "displayName": "Jennifer Jiang",
      "photoUrl": "https://lh3.googleusercontent.com/a-/AOh14Gi1QmgRqBqkLld6AjPmecU1TtuPsFSds4OgqlRXpQ=s64",
      "userId": "12399726278274806243"
     },
     "user_tz": -60
    },
    "id": "jVn-PnavpMcn"
   },
   "outputs": [],
   "source": [
    "def create_layer(num_features, number_classes, dropout_prob=0.5, activation_func=nn.ReLU):\n",
    "  features_lst = [num_features , num_features//2 , num_features//4]\n",
    "  layers = []\n",
    "  for in_f ,out_f in zip(features_lst[:-1] , features_lst[1:]):\n",
    "    layers.append(nn.Linear(in_f , out_f))\n",
    "    layers.append(activation_func())\n",
    "    layers.append(nn.BatchNorm1d(out_f))\n",
    "    if dropout_prob !=0 : layers.append(nn.Dropout(dropout_prob))\n",
    "  layers.append(nn.Linear(features_lst[-1] , number_classes))\n",
    "  return nn.Sequential(*layers)"
   ]
  },
  {
   "cell_type": "code",
   "execution_count": 43,
   "metadata": {
    "colab": {
     "base_uri": "https://localhost:8080/",
     "height": 1000
    },
    "executionInfo": {
     "elapsed": 480,
     "status": "ok",
     "timestamp": 1601896239067,
     "user": {
      "displayName": "Jennifer Jiang",
      "photoUrl": "https://lh3.googleusercontent.com/a-/AOh14Gi1QmgRqBqkLld6AjPmecU1TtuPsFSds4OgqlRXpQ=s64",
      "userId": "12399726278274806243"
     },
     "user_tz": -60
    },
    "id": "ZR-nzF3Xv6L2",
    "outputId": "4aaf899f-6ab0-4c1b-a480-91f70261ec48"
   },
   "outputs": [
    {
     "data": {
      "text/plain": [
       "ResNet(\n",
       "  (conv1): Conv2d(3, 64, kernel_size=(7, 7), stride=(2, 2), padding=(3, 3), bias=False)\n",
       "  (bn1): BatchNorm2d(64, eps=1e-05, momentum=0.1, affine=True, track_running_stats=True)\n",
       "  (relu): ReLU(inplace=True)\n",
       "  (maxpool): MaxPool2d(kernel_size=3, stride=2, padding=1, dilation=1, ceil_mode=False)\n",
       "  (layer1): Sequential(\n",
       "    (0): Bottleneck(\n",
       "      (conv1): Conv2d(64, 64, kernel_size=(1, 1), stride=(1, 1), bias=False)\n",
       "      (bn1): BatchNorm2d(64, eps=1e-05, momentum=0.1, affine=True, track_running_stats=True)\n",
       "      (conv2): Conv2d(64, 64, kernel_size=(3, 3), stride=(1, 1), padding=(1, 1), bias=False)\n",
       "      (bn2): BatchNorm2d(64, eps=1e-05, momentum=0.1, affine=True, track_running_stats=True)\n",
       "      (conv3): Conv2d(64, 256, kernel_size=(1, 1), stride=(1, 1), bias=False)\n",
       "      (bn3): BatchNorm2d(256, eps=1e-05, momentum=0.1, affine=True, track_running_stats=True)\n",
       "      (relu): ReLU(inplace=True)\n",
       "      (downsample): Sequential(\n",
       "        (0): Conv2d(64, 256, kernel_size=(1, 1), stride=(1, 1), bias=False)\n",
       "        (1): BatchNorm2d(256, eps=1e-05, momentum=0.1, affine=True, track_running_stats=True)\n",
       "      )\n",
       "    )\n",
       "    (1): Bottleneck(\n",
       "      (conv1): Conv2d(256, 64, kernel_size=(1, 1), stride=(1, 1), bias=False)\n",
       "      (bn1): BatchNorm2d(64, eps=1e-05, momentum=0.1, affine=True, track_running_stats=True)\n",
       "      (conv2): Conv2d(64, 64, kernel_size=(3, 3), stride=(1, 1), padding=(1, 1), bias=False)\n",
       "      (bn2): BatchNorm2d(64, eps=1e-05, momentum=0.1, affine=True, track_running_stats=True)\n",
       "      (conv3): Conv2d(64, 256, kernel_size=(1, 1), stride=(1, 1), bias=False)\n",
       "      (bn3): BatchNorm2d(256, eps=1e-05, momentum=0.1, affine=True, track_running_stats=True)\n",
       "      (relu): ReLU(inplace=True)\n",
       "    )\n",
       "    (2): Bottleneck(\n",
       "      (conv1): Conv2d(256, 64, kernel_size=(1, 1), stride=(1, 1), bias=False)\n",
       "      (bn1): BatchNorm2d(64, eps=1e-05, momentum=0.1, affine=True, track_running_stats=True)\n",
       "      (conv2): Conv2d(64, 64, kernel_size=(3, 3), stride=(1, 1), padding=(1, 1), bias=False)\n",
       "      (bn2): BatchNorm2d(64, eps=1e-05, momentum=0.1, affine=True, track_running_stats=True)\n",
       "      (conv3): Conv2d(64, 256, kernel_size=(1, 1), stride=(1, 1), bias=False)\n",
       "      (bn3): BatchNorm2d(256, eps=1e-05, momentum=0.1, affine=True, track_running_stats=True)\n",
       "      (relu): ReLU(inplace=True)\n",
       "    )\n",
       "  )\n",
       "  (layer2): Sequential(\n",
       "    (0): Bottleneck(\n",
       "      (conv1): Conv2d(256, 128, kernel_size=(1, 1), stride=(1, 1), bias=False)\n",
       "      (bn1): BatchNorm2d(128, eps=1e-05, momentum=0.1, affine=True, track_running_stats=True)\n",
       "      (conv2): Conv2d(128, 128, kernel_size=(3, 3), stride=(2, 2), padding=(1, 1), bias=False)\n",
       "      (bn2): BatchNorm2d(128, eps=1e-05, momentum=0.1, affine=True, track_running_stats=True)\n",
       "      (conv3): Conv2d(128, 512, kernel_size=(1, 1), stride=(1, 1), bias=False)\n",
       "      (bn3): BatchNorm2d(512, eps=1e-05, momentum=0.1, affine=True, track_running_stats=True)\n",
       "      (relu): ReLU(inplace=True)\n",
       "      (downsample): Sequential(\n",
       "        (0): Conv2d(256, 512, kernel_size=(1, 1), stride=(2, 2), bias=False)\n",
       "        (1): BatchNorm2d(512, eps=1e-05, momentum=0.1, affine=True, track_running_stats=True)\n",
       "      )\n",
       "    )\n",
       "    (1): Bottleneck(\n",
       "      (conv1): Conv2d(512, 128, kernel_size=(1, 1), stride=(1, 1), bias=False)\n",
       "      (bn1): BatchNorm2d(128, eps=1e-05, momentum=0.1, affine=True, track_running_stats=True)\n",
       "      (conv2): Conv2d(128, 128, kernel_size=(3, 3), stride=(1, 1), padding=(1, 1), bias=False)\n",
       "      (bn2): BatchNorm2d(128, eps=1e-05, momentum=0.1, affine=True, track_running_stats=True)\n",
       "      (conv3): Conv2d(128, 512, kernel_size=(1, 1), stride=(1, 1), bias=False)\n",
       "      (bn3): BatchNorm2d(512, eps=1e-05, momentum=0.1, affine=True, track_running_stats=True)\n",
       "      (relu): ReLU(inplace=True)\n",
       "    )\n",
       "    (2): Bottleneck(\n",
       "      (conv1): Conv2d(512, 128, kernel_size=(1, 1), stride=(1, 1), bias=False)\n",
       "      (bn1): BatchNorm2d(128, eps=1e-05, momentum=0.1, affine=True, track_running_stats=True)\n",
       "      (conv2): Conv2d(128, 128, kernel_size=(3, 3), stride=(1, 1), padding=(1, 1), bias=False)\n",
       "      (bn2): BatchNorm2d(128, eps=1e-05, momentum=0.1, affine=True, track_running_stats=True)\n",
       "      (conv3): Conv2d(128, 512, kernel_size=(1, 1), stride=(1, 1), bias=False)\n",
       "      (bn3): BatchNorm2d(512, eps=1e-05, momentum=0.1, affine=True, track_running_stats=True)\n",
       "      (relu): ReLU(inplace=True)\n",
       "    )\n",
       "    (3): Bottleneck(\n",
       "      (conv1): Conv2d(512, 128, kernel_size=(1, 1), stride=(1, 1), bias=False)\n",
       "      (bn1): BatchNorm2d(128, eps=1e-05, momentum=0.1, affine=True, track_running_stats=True)\n",
       "      (conv2): Conv2d(128, 128, kernel_size=(3, 3), stride=(1, 1), padding=(1, 1), bias=False)\n",
       "      (bn2): BatchNorm2d(128, eps=1e-05, momentum=0.1, affine=True, track_running_stats=True)\n",
       "      (conv3): Conv2d(128, 512, kernel_size=(1, 1), stride=(1, 1), bias=False)\n",
       "      (bn3): BatchNorm2d(512, eps=1e-05, momentum=0.1, affine=True, track_running_stats=True)\n",
       "      (relu): ReLU(inplace=True)\n",
       "    )\n",
       "  )\n",
       "  (layer3): Sequential(\n",
       "    (0): Bottleneck(\n",
       "      (conv1): Conv2d(512, 256, kernel_size=(1, 1), stride=(1, 1), bias=False)\n",
       "      (bn1): BatchNorm2d(256, eps=1e-05, momentum=0.1, affine=True, track_running_stats=True)\n",
       "      (conv2): Conv2d(256, 256, kernel_size=(3, 3), stride=(2, 2), padding=(1, 1), bias=False)\n",
       "      (bn2): BatchNorm2d(256, eps=1e-05, momentum=0.1, affine=True, track_running_stats=True)\n",
       "      (conv3): Conv2d(256, 1024, kernel_size=(1, 1), stride=(1, 1), bias=False)\n",
       "      (bn3): BatchNorm2d(1024, eps=1e-05, momentum=0.1, affine=True, track_running_stats=True)\n",
       "      (relu): ReLU(inplace=True)\n",
       "      (downsample): Sequential(\n",
       "        (0): Conv2d(512, 1024, kernel_size=(1, 1), stride=(2, 2), bias=False)\n",
       "        (1): BatchNorm2d(1024, eps=1e-05, momentum=0.1, affine=True, track_running_stats=True)\n",
       "      )\n",
       "    )\n",
       "    (1): Bottleneck(\n",
       "      (conv1): Conv2d(1024, 256, kernel_size=(1, 1), stride=(1, 1), bias=False)\n",
       "      (bn1): BatchNorm2d(256, eps=1e-05, momentum=0.1, affine=True, track_running_stats=True)\n",
       "      (conv2): Conv2d(256, 256, kernel_size=(3, 3), stride=(1, 1), padding=(1, 1), bias=False)\n",
       "      (bn2): BatchNorm2d(256, eps=1e-05, momentum=0.1, affine=True, track_running_stats=True)\n",
       "      (conv3): Conv2d(256, 1024, kernel_size=(1, 1), stride=(1, 1), bias=False)\n",
       "      (bn3): BatchNorm2d(1024, eps=1e-05, momentum=0.1, affine=True, track_running_stats=True)\n",
       "      (relu): ReLU(inplace=True)\n",
       "    )\n",
       "    (2): Bottleneck(\n",
       "      (conv1): Conv2d(1024, 256, kernel_size=(1, 1), stride=(1, 1), bias=False)\n",
       "      (bn1): BatchNorm2d(256, eps=1e-05, momentum=0.1, affine=True, track_running_stats=True)\n",
       "      (conv2): Conv2d(256, 256, kernel_size=(3, 3), stride=(1, 1), padding=(1, 1), bias=False)\n",
       "      (bn2): BatchNorm2d(256, eps=1e-05, momentum=0.1, affine=True, track_running_stats=True)\n",
       "      (conv3): Conv2d(256, 1024, kernel_size=(1, 1), stride=(1, 1), bias=False)\n",
       "      (bn3): BatchNorm2d(1024, eps=1e-05, momentum=0.1, affine=True, track_running_stats=True)\n",
       "      (relu): ReLU(inplace=True)\n",
       "    )\n",
       "    (3): Bottleneck(\n",
       "      (conv1): Conv2d(1024, 256, kernel_size=(1, 1), stride=(1, 1), bias=False)\n",
       "      (bn1): BatchNorm2d(256, eps=1e-05, momentum=0.1, affine=True, track_running_stats=True)\n",
       "      (conv2): Conv2d(256, 256, kernel_size=(3, 3), stride=(1, 1), padding=(1, 1), bias=False)\n",
       "      (bn2): BatchNorm2d(256, eps=1e-05, momentum=0.1, affine=True, track_running_stats=True)\n",
       "      (conv3): Conv2d(256, 1024, kernel_size=(1, 1), stride=(1, 1), bias=False)\n",
       "      (bn3): BatchNorm2d(1024, eps=1e-05, momentum=0.1, affine=True, track_running_stats=True)\n",
       "      (relu): ReLU(inplace=True)\n",
       "    )\n",
       "    (4): Bottleneck(\n",
       "      (conv1): Conv2d(1024, 256, kernel_size=(1, 1), stride=(1, 1), bias=False)\n",
       "      (bn1): BatchNorm2d(256, eps=1e-05, momentum=0.1, affine=True, track_running_stats=True)\n",
       "      (conv2): Conv2d(256, 256, kernel_size=(3, 3), stride=(1, 1), padding=(1, 1), bias=False)\n",
       "      (bn2): BatchNorm2d(256, eps=1e-05, momentum=0.1, affine=True, track_running_stats=True)\n",
       "      (conv3): Conv2d(256, 1024, kernel_size=(1, 1), stride=(1, 1), bias=False)\n",
       "      (bn3): BatchNorm2d(1024, eps=1e-05, momentum=0.1, affine=True, track_running_stats=True)\n",
       "      (relu): ReLU(inplace=True)\n",
       "    )\n",
       "    (5): Bottleneck(\n",
       "      (conv1): Conv2d(1024, 256, kernel_size=(1, 1), stride=(1, 1), bias=False)\n",
       "      (bn1): BatchNorm2d(256, eps=1e-05, momentum=0.1, affine=True, track_running_stats=True)\n",
       "      (conv2): Conv2d(256, 256, kernel_size=(3, 3), stride=(1, 1), padding=(1, 1), bias=False)\n",
       "      (bn2): BatchNorm2d(256, eps=1e-05, momentum=0.1, affine=True, track_running_stats=True)\n",
       "      (conv3): Conv2d(256, 1024, kernel_size=(1, 1), stride=(1, 1), bias=False)\n",
       "      (bn3): BatchNorm2d(1024, eps=1e-05, momentum=0.1, affine=True, track_running_stats=True)\n",
       "      (relu): ReLU(inplace=True)\n",
       "    )\n",
       "  )\n",
       "  (layer4): Sequential(\n",
       "    (0): Bottleneck(\n",
       "      (conv1): Conv2d(1024, 512, kernel_size=(1, 1), stride=(1, 1), bias=False)\n",
       "      (bn1): BatchNorm2d(512, eps=1e-05, momentum=0.1, affine=True, track_running_stats=True)\n",
       "      (conv2): Conv2d(512, 512, kernel_size=(3, 3), stride=(2, 2), padding=(1, 1), bias=False)\n",
       "      (bn2): BatchNorm2d(512, eps=1e-05, momentum=0.1, affine=True, track_running_stats=True)\n",
       "      (conv3): Conv2d(512, 2048, kernel_size=(1, 1), stride=(1, 1), bias=False)\n",
       "      (bn3): BatchNorm2d(2048, eps=1e-05, momentum=0.1, affine=True, track_running_stats=True)\n",
       "      (relu): ReLU(inplace=True)\n",
       "      (downsample): Sequential(\n",
       "        (0): Conv2d(1024, 2048, kernel_size=(1, 1), stride=(2, 2), bias=False)\n",
       "        (1): BatchNorm2d(2048, eps=1e-05, momentum=0.1, affine=True, track_running_stats=True)\n",
       "      )\n",
       "    )\n",
       "    (1): Bottleneck(\n",
       "      (conv1): Conv2d(2048, 512, kernel_size=(1, 1), stride=(1, 1), bias=False)\n",
       "      (bn1): BatchNorm2d(512, eps=1e-05, momentum=0.1, affine=True, track_running_stats=True)\n",
       "      (conv2): Conv2d(512, 512, kernel_size=(3, 3), stride=(1, 1), padding=(1, 1), bias=False)\n",
       "      (bn2): BatchNorm2d(512, eps=1e-05, momentum=0.1, affine=True, track_running_stats=True)\n",
       "      (conv3): Conv2d(512, 2048, kernel_size=(1, 1), stride=(1, 1), bias=False)\n",
       "      (bn3): BatchNorm2d(2048, eps=1e-05, momentum=0.1, affine=True, track_running_stats=True)\n",
       "      (relu): ReLU(inplace=True)\n",
       "    )\n",
       "    (2): Bottleneck(\n",
       "      (conv1): Conv2d(2048, 512, kernel_size=(1, 1), stride=(1, 1), bias=False)\n",
       "      (bn1): BatchNorm2d(512, eps=1e-05, momentum=0.1, affine=True, track_running_stats=True)\n",
       "      (conv2): Conv2d(512, 512, kernel_size=(3, 3), stride=(1, 1), padding=(1, 1), bias=False)\n",
       "      (bn2): BatchNorm2d(512, eps=1e-05, momentum=0.1, affine=True, track_running_stats=True)\n",
       "      (conv3): Conv2d(512, 2048, kernel_size=(1, 1), stride=(1, 1), bias=False)\n",
       "      (bn3): BatchNorm2d(2048, eps=1e-05, momentum=0.1, affine=True, track_running_stats=True)\n",
       "      (relu): ReLU(inplace=True)\n",
       "    )\n",
       "  )\n",
       "  (avgpool): AdaptiveAvgPool2d(output_size=(1, 1))\n",
       "  (fc): Sequential(\n",
       "    (0): Linear(in_features=2048, out_features=1024, bias=True)\n",
       "    (1): ReLU()\n",
       "    (2): BatchNorm1d(1024, eps=1e-05, momentum=0.1, affine=True, track_running_stats=True)\n",
       "    (3): Dropout(p=0.5, inplace=False)\n",
       "    (4): Linear(in_features=1024, out_features=512, bias=True)\n",
       "    (5): ReLU()\n",
       "    (6): BatchNorm1d(512, eps=1e-05, momentum=0.1, affine=True, track_running_stats=True)\n",
       "    (7): Dropout(p=0.5, inplace=False)\n",
       "    (8): Linear(in_features=512, out_features=3, bias=True)\n",
       "  )\n",
       ")"
      ]
     },
     "execution_count": 43,
     "metadata": {
      "tags": []
     },
     "output_type": "execute_result"
    }
   ],
   "source": [
    "custom_classifier = create_layer(num_features , len(class_names)) # create a custom fc layer\n",
    "model.fc = custom_classifier # replace the fully connected layer with our custom layer\n",
    "\n",
    "model"
   ]
  },
  {
   "cell_type": "markdown",
   "metadata": {
    "id": "K5MVQYKtmlpK"
   },
   "source": [
    "# Training"
   ]
  },
  {
   "cell_type": "markdown",
   "metadata": {
    "id": "GpHE1hr5dRQm"
   },
   "source": [
    "Function with main training loop"
   ]
  },
  {
   "cell_type": "code",
   "execution_count": 44,
   "metadata": {
    "executionInfo": {
     "elapsed": 997,
     "status": "ok",
     "timestamp": 1601896251112,
     "user": {
      "displayName": "Jennifer Jiang",
      "photoUrl": "https://lh3.googleusercontent.com/a-/AOh14Gi1QmgRqBqkLld6AjPmecU1TtuPsFSds4OgqlRXpQ=s64",
      "userId": "12399726278274806243"
     },
     "user_tz": -60
    },
    "id": "umSpUzRXEFib"
   },
   "outputs": [],
   "source": [
    "def train_model(model, criterion, optimizer, scheduler, num_epochs=25):\n",
    "    since = time.time()\n",
    "\n",
    "    best_model_wts = copy.deepcopy(model.state_dict())\n",
    "    best_acc = 0.0\n",
    "    train_acc = []\n",
    "    val_acc = []\n",
    "    train_loss = []\n",
    "    val_loss = []\n",
    "\n",
    "    for epoch in range(num_epochs):\n",
    "        print('Epoch {}/{}'.format(epoch, num_epochs - 1))\n",
    "        print('-' * 10)\n",
    "\n",
    "        # Each epoch has a training and validation phase\n",
    "        for phase in ['train', 'val']:\n",
    "            if phase == 'train':\n",
    "                model.train()  # Set model to training mode\n",
    "            else:\n",
    "                model.eval()   # Set model to evaluate mode\n",
    "\n",
    "            running_loss = 0.0\n",
    "            running_corrects = 0\n",
    "\n",
    "            # Iterate over data.\n",
    "            for inputs, labels in dataloaders[phase]:\n",
    "                inputs = inputs.to(device)\n",
    "                labels = labels.to(device)\n",
    "\n",
    "                # zero the parameter gradients\n",
    "                optimizer.zero_grad()\n",
    "\n",
    "                # forward\n",
    "                # track history if only in train\n",
    "                with torch.set_grad_enabled(phase == 'train'):\n",
    "                    outputs = model(inputs)\n",
    "\n",
    "                    loss = criterion(outputs,labels)\n",
    "                    preds = torch.sigmoid(outputs).data > 0.5\n",
    "                    preds = preds.to(torch.float32)\n",
    "\n",
    "                    # backward + optimize only if in training phase\n",
    "                    if phase == 'train':\n",
    "                        loss.backward()\n",
    "                        optimizer.step()\n",
    "\n",
    "                # statistics\n",
    "                running_loss += loss.item() * inputs.size(0)\n",
    "                running_corrects += f1_score(labels.to(\"cpu\").to(torch.int).numpy(),\n",
    "                                             preds.to(\"cpu\").to(torch.int).numpy(), average=\"samples\")  * inputs.size(0)\n",
    "\n",
    "                cm = multilabel_confusion_matrix(labels.to(\"cpu\").to(torch.int).numpy(),\n",
    "                                      preds.to(\"cpu\").to(torch.int).numpy())\n",
    "                # if phase == 'train':\n",
    "                #   print(\"train cm\")\n",
    "                # else:\n",
    "                #   print(\"val cm\")\n",
    "                # print(cm)\n",
    "\n",
    "            if phase == 'train':\n",
    "              scheduler.step()\n",
    "\n",
    "            epoch_loss = running_loss / len(dataloaders[phase].dataset)\n",
    "            epoch_acc = running_corrects / len(dataloaders[phase].dataset)\n",
    "\n",
    "\n",
    "            print('{} Loss: {:.4f} Acc: {:.4f}'.format(\n",
    "                phase, epoch_loss, epoch_acc))\n",
    "\n",
    "            # deep copy the model\n",
    "            if phase == 'val' and epoch_acc > best_acc:\n",
    "                best_acc = epoch_acc\n",
    "                best_model_wts = copy.deepcopy(model.state_dict())\n",
    "                torch.save(best_model_wts, DATA_PATH + 'best_weight.pt')\n",
    "            \n",
    "            if phase == 'train':\n",
    "              train_acc.append(epoch_acc)\n",
    "              train_loss.append(epoch_loss)\n",
    "            else:\n",
    "              val_acc.append(epoch_acc)\n",
    "              val_loss.append(epoch_loss)\n",
    "\n",
    "        print()\n",
    "\n",
    "    time_elapsed = time.time() - since\n",
    "    print('Training complete in {:.0f}m {:.0f}s'.format(\n",
    "        time_elapsed // 60, time_elapsed % 60))\n",
    "    print('Best val Acc: {:4f}'.format(best_acc))\n",
    "\n",
    "    # load best model weights\n",
    "    model.load_state_dict(best_model_wts)\n",
    "\n",
    "    return model, train_acc, train_loss, val_acc, val_loss"
   ]
  },
  {
   "cell_type": "markdown",
   "metadata": {
    "id": "bSREM_HIUNUR"
   },
   "source": [
    "## Defining training parameters"
   ]
  },
  {
   "cell_type": "code",
   "execution_count": 47,
   "metadata": {
    "executionInfo": {
     "elapsed": 462,
     "status": "ok",
     "timestamp": 1601897320482,
     "user": {
      "displayName": "Jennifer Jiang",
      "photoUrl": "https://lh3.googleusercontent.com/a-/AOh14Gi1QmgRqBqkLld6AjPmecU1TtuPsFSds4OgqlRXpQ=s64",
      "userId": "12399726278274806243"
     },
     "user_tz": -60
    },
    "id": "9D2qoT2atYIh"
   },
   "outputs": [],
   "source": [
    "device = torch.device(\"cuda:0\" if torch.cuda.is_available() else \"cpu\")\n",
    "\n",
    "# send models to GPU\n",
    "base_mode = base_model.to(device)\n",
    "model = model.to(device)\n",
    "\n",
    "# weight calculated negative/positive samples in each class to balance\n",
    "pos_weight = torch.FloatTensor([8201/341, 5350/3192, 5584/2958]).cuda() \n",
    "criterion = nn.BCEWithLogitsLoss()#pos_weight=pos_weight)  #multi-label multi-class binary loss function\n",
    "\n",
    "# defining optimizer and learning rate scheduler\n",
    "optimizer = optim.SGD(model.fc.parameters(), lr = 0.001, momentum=0.9)\n",
    "lr = lr_scheduler.StepLR(optimizer, step_size=5, gamma=0.1)\n",
    "\n",
    "# optimizer = optim.Adam(model.parameters(), lr=0.001, weight_decay=0.0005)\n",
    "# lr = lr_scheduler.CosineAnnealingLR(optimizer, T_max=5, eta_min=0.005)"
   ]
  },
  {
   "cell_type": "code",
   "execution_count": 50,
   "metadata": {
    "colab": {
     "base_uri": "https://localhost:8080/",
     "height": 1000
    },
    "executionInfo": {
     "elapsed": 4682863,
     "status": "ok",
     "timestamp": 1601903491831,
     "user": {
      "displayName": "Jennifer Jiang",
      "photoUrl": "https://lh3.googleusercontent.com/a-/AOh14Gi1QmgRqBqkLld6AjPmecU1TtuPsFSds4OgqlRXpQ=s64",
      "userId": "12399726278274806243"
     },
     "user_tz": -60
    },
    "id": "IgI2nMbhmqRQ",
    "outputId": "655ccf55-687a-430c-d1fd-dc29b64355bf"
   },
   "outputs": [
    {
     "name": "stdout",
     "output_type": "stream",
     "text": [
      "Epoch 0/49\n",
      "----------\n",
      "train Loss: 0.7452 Acc: 0.2228\n",
      "val Loss: 0.6976 Acc: 0.1832\n",
      "\n",
      "Epoch 1/49\n",
      "----------\n",
      "train Loss: 0.7475 Acc: 0.2250\n",
      "val Loss: 0.6931 Acc: 0.2158\n",
      "\n",
      "Epoch 2/49\n",
      "----------\n",
      "train Loss: 0.7463 Acc: 0.2187\n",
      "val Loss: 0.6977 Acc: 0.1788\n",
      "\n",
      "Epoch 3/49\n",
      "----------\n",
      "train Loss: 0.7426 Acc: 0.2238\n",
      "val Loss: 0.6929 Acc: 0.1936\n",
      "\n",
      "Epoch 4/49\n",
      "----------\n",
      "train Loss: 0.7428 Acc: 0.2298\n",
      "val Loss: 0.6908 Acc: 0.1687\n",
      "\n",
      "Epoch 5/49\n",
      "----------\n",
      "train Loss: 0.7465 Acc: 0.2214\n",
      "val Loss: 0.7023 Acc: 0.2323\n",
      "\n",
      "Epoch 6/49\n",
      "----------\n",
      "train Loss: 0.7443 Acc: 0.2205\n",
      "val Loss: 0.6988 Acc: 0.2119\n",
      "\n",
      "Epoch 7/49\n",
      "----------\n",
      "train Loss: 0.7452 Acc: 0.2246\n",
      "val Loss: 0.6893 Acc: 0.2159\n",
      "\n",
      "Epoch 8/49\n",
      "----------\n",
      "train Loss: 0.7432 Acc: 0.2248\n",
      "val Loss: 0.6975 Acc: 0.2109\n",
      "\n",
      "Epoch 9/49\n",
      "----------\n",
      "train Loss: 0.7454 Acc: 0.2194\n",
      "val Loss: 0.6938 Acc: 0.1745\n",
      "\n",
      "Epoch 10/49\n",
      "----------\n",
      "train Loss: 0.7461 Acc: 0.2203\n",
      "val Loss: 0.6988 Acc: 0.2184\n",
      "\n",
      "Epoch 11/49\n",
      "----------\n",
      "train Loss: 0.7450 Acc: 0.2243\n",
      "val Loss: 0.6970 Acc: 0.1989\n",
      "\n",
      "Epoch 12/49\n",
      "----------\n",
      "train Loss: 0.7454 Acc: 0.2198\n",
      "val Loss: 0.6996 Acc: 0.1947\n",
      "\n",
      "Epoch 13/49\n",
      "----------\n",
      "train Loss: 0.7432 Acc: 0.2228\n",
      "val Loss: 0.6911 Acc: 0.2183\n",
      "\n",
      "Epoch 14/49\n",
      "----------\n",
      "train Loss: 0.7422 Acc: 0.2242\n",
      "val Loss: 0.6948 Acc: 0.1760\n",
      "\n",
      "Epoch 15/49\n",
      "----------\n",
      "train Loss: 0.7454 Acc: 0.2284\n",
      "val Loss: 0.6978 Acc: 0.1823\n",
      "\n",
      "Epoch 16/49\n",
      "----------\n",
      "train Loss: 0.7425 Acc: 0.2245\n",
      "val Loss: 0.6930 Acc: 0.2231\n",
      "\n",
      "Epoch 17/49\n",
      "----------\n",
      "train Loss: 0.7452 Acc: 0.2173\n",
      "val Loss: 0.6906 Acc: 0.1858\n",
      "\n",
      "Epoch 18/49\n",
      "----------\n",
      "train Loss: 0.7469 Acc: 0.2171\n",
      "val Loss: 0.6980 Acc: 0.2076\n",
      "\n",
      "Epoch 19/49\n",
      "----------\n",
      "train Loss: 0.7455 Acc: 0.2214\n",
      "val Loss: 0.6944 Acc: 0.1979\n",
      "\n",
      "Epoch 20/49\n",
      "----------\n",
      "train Loss: 0.7467 Acc: 0.2251\n",
      "val Loss: 0.6913 Acc: 0.1797\n",
      "\n",
      "Epoch 21/49\n",
      "----------\n",
      "train Loss: 0.7458 Acc: 0.2180\n",
      "val Loss: 0.6943 Acc: 0.2366\n",
      "\n",
      "Epoch 22/49\n",
      "----------\n",
      "train Loss: 0.7434 Acc: 0.2252\n",
      "val Loss: 0.6969 Acc: 0.2433\n",
      "\n",
      "Epoch 23/49\n",
      "----------\n",
      "train Loss: 0.7477 Acc: 0.2183\n",
      "val Loss: 0.6967 Acc: 0.1839\n",
      "\n",
      "Epoch 24/49\n",
      "----------\n",
      "train Loss: 0.7421 Acc: 0.2278\n",
      "val Loss: 0.6982 Acc: 0.1932\n",
      "\n",
      "Epoch 25/49\n",
      "----------\n",
      "train Loss: 0.7470 Acc: 0.2243\n",
      "val Loss: 0.6955 Acc: 0.2195\n",
      "\n",
      "Epoch 26/49\n",
      "----------\n",
      "train Loss: 0.7457 Acc: 0.2238\n",
      "val Loss: 0.6975 Acc: 0.1947\n",
      "\n",
      "Epoch 27/49\n",
      "----------\n",
      "train Loss: 0.7426 Acc: 0.2259\n",
      "val Loss: 0.6945 Acc: 0.2010\n",
      "\n",
      "Epoch 28/49\n",
      "----------\n",
      "train Loss: 0.7442 Acc: 0.2243\n",
      "val Loss: 0.6963 Acc: 0.2302\n",
      "\n",
      "Epoch 29/49\n",
      "----------\n",
      "train Loss: 0.7436 Acc: 0.2278\n",
      "val Loss: 0.6982 Acc: 0.2077\n",
      "\n",
      "Epoch 30/49\n",
      "----------\n",
      "train Loss: 0.7446 Acc: 0.2230\n",
      "val Loss: 0.6993 Acc: 0.1976\n",
      "\n",
      "Epoch 31/49\n",
      "----------\n",
      "train Loss: 0.7422 Acc: 0.2256\n",
      "val Loss: 0.6972 Acc: 0.2161\n",
      "\n",
      "Epoch 32/49\n",
      "----------\n",
      "train Loss: 0.7477 Acc: 0.2194\n",
      "val Loss: 0.7009 Acc: 0.2184\n",
      "\n",
      "Epoch 33/49\n",
      "----------\n",
      "train Loss: 0.7422 Acc: 0.2324\n",
      "val Loss: 0.7028 Acc: 0.2232\n",
      "\n",
      "Epoch 34/49\n",
      "----------\n",
      "train Loss: 0.7430 Acc: 0.2250\n",
      "val Loss: 0.6886 Acc: 0.1957\n",
      "\n",
      "Epoch 35/49\n",
      "----------\n",
      "train Loss: 0.7451 Acc: 0.2212\n",
      "val Loss: 0.7027 Acc: 0.2131\n",
      "\n",
      "Epoch 36/49\n",
      "----------\n",
      "train Loss: 0.7414 Acc: 0.2289\n",
      "val Loss: 0.7038 Acc: 0.2175\n",
      "\n",
      "Epoch 37/49\n",
      "----------\n",
      "train Loss: 0.7450 Acc: 0.2245\n",
      "val Loss: 0.6945 Acc: 0.2046\n",
      "\n",
      "Epoch 38/49\n",
      "----------\n",
      "train Loss: 0.7415 Acc: 0.2282\n",
      "val Loss: 0.7001 Acc: 0.2004\n",
      "\n",
      "Epoch 39/49\n",
      "----------\n",
      "train Loss: 0.7446 Acc: 0.2267\n",
      "val Loss: 0.6953 Acc: 0.1971\n",
      "\n",
      "Epoch 40/49\n",
      "----------\n",
      "train Loss: 0.7473 Acc: 0.2222\n",
      "val Loss: 0.6934 Acc: 0.2028\n",
      "\n",
      "Epoch 41/49\n",
      "----------\n",
      "train Loss: 0.7437 Acc: 0.2202\n",
      "val Loss: 0.6955 Acc: 0.1858\n",
      "\n",
      "Epoch 42/49\n",
      "----------\n",
      "train Loss: 0.7418 Acc: 0.2289\n",
      "val Loss: 0.7013 Acc: 0.2197\n",
      "\n",
      "Epoch 43/49\n",
      "----------\n",
      "train Loss: 0.7431 Acc: 0.2245\n",
      "val Loss: 0.6964 Acc: 0.1702\n",
      "\n",
      "Epoch 44/49\n",
      "----------\n",
      "train Loss: 0.7441 Acc: 0.2247\n",
      "val Loss: 0.6980 Acc: 0.2097\n",
      "\n",
      "Epoch 45/49\n",
      "----------\n",
      "train Loss: 0.7469 Acc: 0.2255\n",
      "val Loss: 0.6953 Acc: 0.1955\n",
      "\n",
      "Epoch 46/49\n",
      "----------\n",
      "train Loss: 0.7447 Acc: 0.2249\n",
      "val Loss: 0.6960 Acc: 0.2139\n",
      "\n",
      "Epoch 47/49\n",
      "----------\n",
      "train Loss: 0.7461 Acc: 0.2226\n",
      "val Loss: 0.7000 Acc: 0.1955\n",
      "\n",
      "Epoch 48/49\n",
      "----------\n",
      "train Loss: 0.7437 Acc: 0.2264\n",
      "val Loss: 0.6931 Acc: 0.1639\n",
      "\n",
      "Epoch 49/49\n",
      "----------\n",
      "train Loss: 0.7443 Acc: 0.2232\n",
      "val Loss: 0.6950 Acc: 0.2178\n",
      "\n",
      "Training complete in 78m 2s\n",
      "Best val Acc: 0.243343\n"
     ]
    }
   ],
   "source": [
    "base_model, base_train_acc, base_train_loss, base_val_acc, base_val_loss = train_model(\n",
    "    base_model, criterion, optimizer, lr, num_epochs=50)"
   ]
  },
  {
   "cell_type": "code",
   "execution_count": 48,
   "metadata": {
    "colab": {
     "base_uri": "https://localhost:8080/",
     "height": 1000
    },
    "executionInfo": {
     "elapsed": 749808,
     "status": "ok",
     "timestamp": 1601898071840,
     "user": {
      "displayName": "Jennifer Jiang",
      "photoUrl": "https://lh3.googleusercontent.com/a-/AOh14Gi1QmgRqBqkLld6AjPmecU1TtuPsFSds4OgqlRXpQ=s64",
      "userId": "12399726278274806243"
     },
     "user_tz": -60
    },
    "id": "1teaMNYgqOCD",
    "outputId": "955668a7-1306-4f2e-c94b-3e8b3cd9cef7"
   },
   "outputs": [
    {
     "name": "stdout",
     "output_type": "stream",
     "text": [
      "Epoch 0/19\n",
      "----------\n",
      "train Loss: 0.6563 Acc: 0.2980\n",
      "val Loss: 0.5788 Acc: 0.3033\n",
      "\n",
      "Epoch 1/19\n",
      "----------\n",
      "train Loss: 0.5818 Acc: 0.3121\n",
      "val Loss: 0.5485 Acc: 0.3272\n",
      "\n",
      "Epoch 2/19\n",
      "----------\n",
      "train Loss: 0.5372 Acc: 0.3159\n",
      "val Loss: 0.5015 Acc: 0.2806\n",
      "\n",
      "Epoch 3/19\n",
      "----------\n",
      "train Loss: 0.5140 Acc: 0.3098\n",
      "val Loss: 0.4852 Acc: 0.3028\n",
      "\n",
      "Epoch 4/19\n",
      "----------\n",
      "train Loss: 0.4885 Acc: 0.3050\n",
      "val Loss: 0.4670 Acc: 0.2509\n",
      "\n",
      "Epoch 5/19\n",
      "----------\n",
      "train Loss: 0.4797 Acc: 0.3059\n",
      "val Loss: 0.4651 Acc: 0.2616\n",
      "\n",
      "Epoch 6/19\n",
      "----------\n",
      "train Loss: 0.4783 Acc: 0.2995\n",
      "val Loss: 0.4691 Acc: 0.2786\n",
      "\n",
      "Epoch 7/19\n",
      "----------\n",
      "train Loss: 0.4757 Acc: 0.3079\n",
      "val Loss: 0.4618 Acc: 0.2500\n",
      "\n",
      "Epoch 8/19\n",
      "----------\n",
      "train Loss: 0.4734 Acc: 0.2996\n",
      "val Loss: 0.4643 Acc: 0.2739\n",
      "\n",
      "Epoch 9/19\n",
      "----------\n",
      "train Loss: 0.4730 Acc: 0.2959\n",
      "val Loss: 0.4638 Acc: 0.2633\n",
      "\n",
      "Epoch 10/19\n",
      "----------\n",
      "train Loss: 0.4705 Acc: 0.3025\n",
      "val Loss: 0.4607 Acc: 0.2646\n",
      "\n",
      "Epoch 11/19\n",
      "----------\n",
      "train Loss: 0.4744 Acc: 0.3009\n",
      "val Loss: 0.4610 Acc: 0.2612\n",
      "\n",
      "Epoch 12/19\n",
      "----------\n",
      "train Loss: 0.4726 Acc: 0.3043\n",
      "val Loss: 0.4645 Acc: 0.2642\n",
      "\n",
      "Epoch 13/19\n",
      "----------\n",
      "train Loss: 0.4711 Acc: 0.3009\n",
      "val Loss: 0.4616 Acc: 0.2665\n",
      "\n",
      "Epoch 14/19\n",
      "----------\n",
      "train Loss: 0.4729 Acc: 0.2989\n",
      "val Loss: 0.4605 Acc: 0.2661\n",
      "\n",
      "Epoch 15/19\n",
      "----------\n",
      "train Loss: 0.4720 Acc: 0.2983\n",
      "val Loss: 0.4648 Acc: 0.2817\n",
      "\n",
      "Epoch 16/19\n",
      "----------\n",
      "train Loss: 0.4735 Acc: 0.3009\n",
      "val Loss: 0.4640 Acc: 0.2750\n",
      "\n",
      "Epoch 17/19\n",
      "----------\n",
      "train Loss: 0.4714 Acc: 0.3019\n",
      "val Loss: 0.4598 Acc: 0.2594\n",
      "\n",
      "Epoch 18/19\n",
      "----------\n",
      "train Loss: 0.4703 Acc: 0.2977\n",
      "val Loss: 0.4615 Acc: 0.2725\n",
      "\n",
      "Epoch 19/19\n",
      "----------\n",
      "train Loss: 0.4697 Acc: 0.3015\n",
      "val Loss: 0.4568 Acc: 0.2453\n",
      "\n",
      "Training complete in 12m 29s\n",
      "Best val Acc: 0.327150\n"
     ]
    }
   ],
   "source": [
    "model, train_acc, train_loss, val_acc, val_loss = train_model(\n",
    "    model, criterion, optimizer, lr, num_epochs=20)"
   ]
  },
  {
   "cell_type": "markdown",
   "metadata": {
    "id": "otofnSANq-Pj"
   },
   "source": [
    "# Evaluation"
   ]
  },
  {
   "cell_type": "markdown",
   "metadata": {
    "id": "TlGKahwZUcHK"
   },
   "source": [
    "## Training & Validation Loss"
   ]
  },
  {
   "cell_type": "code",
   "execution_count": 49,
   "metadata": {
    "colab": {
     "base_uri": "https://localhost:8080/",
     "height": 364
    },
    "executionInfo": {
     "elapsed": 595,
     "status": "ok",
     "timestamp": 1601898316400,
     "user": {
      "displayName": "Jennifer Jiang",
      "photoUrl": "https://lh3.googleusercontent.com/a-/AOh14Gi1QmgRqBqkLld6AjPmecU1TtuPsFSds4OgqlRXpQ=s64",
      "userId": "12399726278274806243"
     },
     "user_tz": -60
    },
    "id": "FY_2sBuV92mQ",
    "outputId": "843cc6c0-347a-42be-a64a-421370555f04"
   },
   "outputs": [
    {
     "data": {
      "text/plain": [
       "[<matplotlib.lines.Line2D at 0x7f2ec09fb358>]"
      ]
     },
     "execution_count": 49,
     "metadata": {
      "tags": []
     },
     "output_type": "execute_result"
    },
    {
     "data": {
      "image/png": "[encoded data removed]",
      "text/plain": [
       "<Figure size 576x396 with 1 Axes>"
      ]
     },
     "metadata": {
      "tags": []
     },
     "output_type": "display_data"
    }
   ],
   "source": [
    "plt.style.use(\"seaborn\")\n",
    "plt.plot(train_loss)\n",
    "plt.plot(val_loss)"
   ]
  },
  {
   "cell_type": "markdown",
   "metadata": {
    "id": "YZJqtl_TUone"
   },
   "source": [
    "## Final validation on test set"
   ]
  },
  {
   "cell_type": "code",
   "execution_count": 95,
   "metadata": {
    "executionInfo": {
     "elapsed": 497,
     "status": "ok",
     "timestamp": 1601908040258,
     "user": {
      "displayName": "Jennifer Jiang",
      "photoUrl": "https://lh3.googleusercontent.com/a-/AOh14Gi1QmgRqBqkLld6AjPmecU1TtuPsFSds4OgqlRXpQ=s64",
      "userId": "12399726278274806243"
     },
     "user_tz": -60
    },
    "id": "4mLwXkCoXQS5"
   },
   "outputs": [],
   "source": [
    "def computeAUROC(labels, preds, classCount):\n",
    "\n",
    "    AUROC = []\n",
    "    #labels = labels.view(-1, 3).contiguous().cuda()\n",
    "    preds = preds.cpu().numpy()\n",
    "\n",
    "    for i in range(classCount):\n",
    "      if len(np.unique(labels[:, i])) == 2:\n",
    "        AUROC.append(roc_auc_score(labels[:, i], preds[:, i]))\n",
    "\n",
    "    return AUROC"
   ]
  },
  {
   "cell_type": "code",
   "execution_count": 77,
   "metadata": {
    "executionInfo": {
     "elapsed": 1795,
     "status": "ok",
     "timestamp": 1601906637207,
     "user": {
      "displayName": "Jennifer Jiang",
      "photoUrl": "https://lh3.googleusercontent.com/a-/AOh14Gi1QmgRqBqkLld6AjPmecU1TtuPsFSds4OgqlRXpQ=s64",
      "userId": "12399726278274806243"
     },
     "user_tz": -60
    },
    "id": "Vi1zOjGggL5D"
   },
   "outputs": [],
   "source": [
    "def plot_confusion_matrix(cm):\n",
    "\n",
    "  df_cm = pd.DataFrame(cm, range(2), range(2))\n",
    "  # plt.figure(figsize=(10,7))\n",
    "  sns.set(font_scale=1.4) \n",
    "\n",
    "  sns.heatmap(df_cm, annot=True, annot_kws={\"size\": 16})\n",
    "\n",
    "  plt.show()"
   ]
  },
  {
   "cell_type": "markdown",
   "metadata": {
    "id": "P7JLfjkVtJ_h"
   },
   "source": [
    "function to get final F1 accuracy and other stats on the test set"
   ]
  },
  {
   "cell_type": "code",
   "execution_count": 100,
   "metadata": {
    "executionInfo": {
     "elapsed": 481,
     "status": "ok",
     "timestamp": 1601908398685,
     "user": {
      "displayName": "Jennifer Jiang",
      "photoUrl": "https://lh3.googleusercontent.com/a-/AOh14Gi1QmgRqBqkLld6AjPmecU1TtuPsFSds4OgqlRXpQ=s64",
      "userId": "12399726278274806243"
     },
     "user_tz": -60
    },
    "id": "5v7nu-uwrW01"
   },
   "outputs": [],
   "source": [
    "# Validation on the test set\n",
    "def test(model, dataloaders, device):\n",
    "\n",
    "  model.eval()\n",
    "  accuracy = 0\n",
    "  cm = np.zeros([3,2,2])\n",
    "  \n",
    "  model.to(device)\n",
    "    \n",
    "  for images, labels in dataloaders['test']:\n",
    "    images = images.to(device)\n",
    "    labels = labels.to(device)\n",
    "      \n",
    "    output = model.forward(images)\n",
    "    preds = torch.sigmoid(output).data > 0.5\n",
    "\n",
    "    labels = labels.cpu().numpy()\n",
    "    preds = preds.cpu().numpy()\n",
    "\n",
    "    accuracy += f1_score(labels, preds, average=\"samples\")\n",
    "    cm = cm.__add__(multilabel_confusion_matrix(labels, preds))\n",
    "    \n",
    "    auc = computeAUROC(labels, torch.sigmoid(output).data, 3)\n",
    "\n",
    "  print(\"Final testing Accuracy: {:.3f}\".format(accuracy/len(dataloaders['test'])))\n",
    "  print(\"AUC:\", auc)\n",
    "  print(classification_report(labels, preds))\n",
    "  print(cm)"
   ]
  },
  {
   "cell_type": "code",
   "execution_count": 101,
   "metadata": {
    "colab": {
     "base_uri": "https://localhost:8080/",
     "height": 374
    },
    "executionInfo": {
     "elapsed": 6957,
     "status": "ok",
     "timestamp": 1601908406320,
     "user": {
      "displayName": "Jennifer Jiang",
      "photoUrl": "https://lh3.googleusercontent.com/a-/AOh14Gi1QmgRqBqkLld6AjPmecU1TtuPsFSds4OgqlRXpQ=s64",
      "userId": "12399726278274806243"
     },
     "user_tz": -60
    },
    "id": "cYw-Ybl3ClIn",
    "outputId": "a0260451-3468-496f-be76-b61bf543d954"
   },
   "outputs": [
    {
     "name": "stdout",
     "output_type": "stream",
     "text": [
      "Final testing Accuracy: 0.342\n",
      "AUC: [1.0]\n",
      "              precision    recall  f1-score   support\n",
      "\n",
      "           0       0.00      0.00      0.00         0\n",
      "           1       0.00      0.00      0.00         0\n",
      "           2       1.00      1.00      1.00         1\n",
      "\n",
      "   micro avg       1.00      1.00      1.00         1\n",
      "   macro avg       0.33      0.33      0.33         1\n",
      "weighted avg       1.00      1.00      1.00         1\n",
      " samples avg       0.50      0.50      0.50         1\n",
      "\n",
      "[[[1222.    9.]\n",
      "  [  50.    1.]]\n",
      "\n",
      " [[ 558.  245.]\n",
      "  [ 123.  356.]]\n",
      "\n",
      " [[ 503.  335.]\n",
      "  [ 122.  322.]]]\n"
     ]
    }
   ],
   "source": [
    "test(model, dataloaders, device)"
   ]
  },
  {
   "cell_type": "markdown",
   "metadata": {
    "id": "KnBmZHBwrXQf"
   },
   "source": [
    "# Prediction"
   ]
  },
  {
   "cell_type": "markdown",
   "metadata": {
    "id": "9I90Itexop1P"
   },
   "source": [
    "Function for predictions"
   ]
  },
  {
   "cell_type": "code",
   "execution_count": 126,
   "metadata": {
    "executionInfo": {
     "elapsed": 389,
     "status": "ok",
     "timestamp": 1601913962424,
     "user": {
      "displayName": "Jennifer Jiang",
      "photoUrl": "https://lh3.googleusercontent.com/a-/AOh14Gi1QmgRqBqkLld6AjPmecU1TtuPsFSds4OgqlRXpQ=s64",
      "userId": "12399726278274806243"
     },
     "user_tz": -60
    },
    "id": "0JF5_AXpm63z"
   },
   "outputs": [],
   "source": [
    "def predict(model, batch_size=32):\n",
    "\n",
    "    pred_test_ds = Dataset(data=None, labels=None, transform=val_transforms, load_test=True)\n",
    "    test_loader = DataLoader(pred_test_ds, batch_size=batch_size, shuffle=False)\n",
    "\n",
    "    was_training = model.training\n",
    "    model.cuda()\n",
    "    model.eval()\n",
    "\n",
    "    prob_outputs, pred_outputs, all_filenames = [], [], []\n",
    "\n",
    "    with torch.no_grad():\n",
    "      for image, filename in test_loader:\n",
    "        image = image.to(device)\n",
    "        probs = torch.sigmoid(model(image))\n",
    "        preds = probs.data > 0.5\n",
    "\n",
    "        prob_outputs.append(probs.cpu().numpy())\n",
    "        pred_outputs.append(preds.cpu().numpy())\n",
    "        all_filenames.extend(filename)\n",
    "        # print(filename)\n",
    "      \n",
    "      test_probs = pd.DataFrame(data=np.concatenate(prob_outputs),\n",
    "                                index=all_filenames,\n",
    "                                columns=class_names)\n",
    "      test_preds = pd.DataFrame(data=np.concatenate(pred_outputs),\n",
    "                                index=all_filenames,\n",
    "                                columns=class_names)\n",
    "\n",
    "    return test_probs, test_preds"
   ]
  },
  {
   "cell_type": "code",
   "execution_count": 127,
   "metadata": {
    "executionInfo": {
     "elapsed": 24068,
     "status": "ok",
     "timestamp": 1601914319463,
     "user": {
      "displayName": "Jennifer Jiang",
      "photoUrl": "https://lh3.googleusercontent.com/a-/AOh14Gi1QmgRqBqkLld6AjPmecU1TtuPsFSds4OgqlRXpQ=s64",
      "userId": "12399726278274806243"
     },
     "user_tz": -60
    },
    "id": "4Ra36Dkfq4Gw"
   },
   "outputs": [],
   "source": [
    "test_probs, test_preds = predict(model)"
   ]
  },
  {
   "cell_type": "markdown",
   "metadata": {
    "id": "sUH7CYoVotUp"
   },
   "source": [
    "Some formatting and reindexing before saving to csv"
   ]
  },
  {
   "cell_type": "code",
   "execution_count": 148,
   "metadata": {
    "executionInfo": {
     "elapsed": 521,
     "status": "ok",
     "timestamp": 1601915616115,
     "user": {
      "displayName": "Jennifer Jiang",
      "photoUrl": "https://lh3.googleusercontent.com/a-/AOh14Gi1QmgRqBqkLld6AjPmecU1TtuPsFSds4OgqlRXpQ=s64",
      "userId": "12399726278274806243"
     },
     "user_tz": -60
    },
    "id": "wNFA1n7djKTr"
   },
   "outputs": [],
   "source": [
    "test_probs.index = test_probs.index.str.strip('.png')\n",
    "test_preds.index = test_preds.index.str.strip('.png')\n",
    "\n",
    "test_probs = test_probs.reindex(index=test_probs.index.to_series().str.rsplit('_').str[-1].astype(int).sort_values().index)\n",
    "test_preds = test_preds.reindex(index=test_preds.index.to_series().str.rsplit('_').str[-1].astype(int).sort_values().index)"
   ]
  },
  {
   "cell_type": "code",
   "execution_count": 158,
   "metadata": {
    "executionInfo": {
     "elapsed": 814,
     "status": "ok",
     "timestamp": 1601917732738,
     "user": {
      "displayName": "Jennifer Jiang",
      "photoUrl": "https://lh3.googleusercontent.com/a-/AOh14Gi1QmgRqBqkLld6AjPmecU1TtuPsFSds4OgqlRXpQ=s64",
      "userId": "12399726278274806243"
     },
     "user_tz": -60
    },
    "id": "4-DQ-RYxvHDR"
   },
   "outputs": [],
   "source": [
    "test_preds = test_preds.astype(int)"
   ]
  },
  {
   "cell_type": "code",
   "execution_count": 160,
   "metadata": {
    "executionInfo": {
     "elapsed": 467,
     "status": "ok",
     "timestamp": 1601917755962,
     "user": {
      "displayName": "Jennifer Jiang",
      "photoUrl": "https://lh3.googleusercontent.com/a-/AOh14Gi1QmgRqBqkLld6AjPmecU1TtuPsFSds4OgqlRXpQ=s64",
      "userId": "12399726278274806243"
     },
     "user_tz": -60
    },
    "id": "dn9YMFhHnin7"
   },
   "outputs": [],
   "source": [
    "test_probs.to_csv(DATA_PATH + \"probs_predictions.csv\")\n",
    "test_preds.to_csv(DATA_PATH + \"binary_predictions.csv\")"
   ]
  },
  {
   "cell_type": "code",
   "execution_count": null,
   "metadata": {
    "id": "fErZFQ22oFlO"
   },
   "outputs": [],
   "source": []
  }
 ],
 "metadata": {
  "accelerator": "GPU",
  "colab": {
   "authorship_tag": "ABX9TyOKmjAPixpVyIESzOJvSw4Z",
   "collapsed_sections": [],
   "name": "hemorrhage-detection-project.ipynb",
   "provenance": [],
   "toc_visible": true
  },
  "kernelspec": {
   "display_name": "Python 3",
   "language": "python",
   "name": "python3"
  },
  "language_info": {
   "codemirror_mode": {
    "name": "ipython",
    "version": 3
   },
   "file_extension": ".py",
   "mimetype": "text/x-python",
   "name": "python",
   "nbconvert_exporter": "python",
   "pygments_lexer": "ipython3",
   "version": "3.7.5"
  },
  "widgets": {
   "application/vnd.jupyter.widget-state+json": {
    "21f750fdceb74be6bbacda33e9ec801d": {
     "model_module": "@jupyter-widgets/controls",
     "model_name": "DescriptionStyleModel",
     "state": {
      "_model_module": "@jupyter-widgets/controls",
      "_model_module_version": "1.5.0",
      "_model_name": "DescriptionStyleModel",
      "_view_count": null,
      "_view_module": "@jupyter-widgets/base",
      "_view_module_version": "1.2.0",
      "_view_name": "StyleView",
      "description_width": ""
     }
    },
    "2f0252e51f1c44c98f052f5c024f3331": {
     "model_module": "@jupyter-widgets/controls",
     "model_name": "ProgressStyleModel",
     "state": {
      "_model_module": "@jupyter-widgets/controls",
      "_model_module_version": "1.5.0",
      "_model_name": "ProgressStyleModel",
      "_view_count": null,
      "_view_module": "@jupyter-widgets/base",
      "_view_module_version": "1.2.0",
      "_view_name": "StyleView",
      "bar_color": null,
      "description_width": "initial"
     }
    },
    "5c3678f3a6524a4f98c552f0cc019401": {
     "model_module": "@jupyter-widgets/base",
     "model_name": "LayoutModel",
     "state": {
      "_model_module": "@jupyter-widgets/base",
      "_model_module_version": "1.2.0",
      "_model_name": "LayoutModel",
      "_view_count": null,
      "_view_module": "@jupyter-widgets/base",
      "_view_module_version": "1.2.0",
      "_view_name": "LayoutView",
      "align_content": null,
      "align_items": null,
      "align_self": null,
      "border": null,
      "bottom": null,
      "display": null,
      "flex": null,
      "flex_flow": null,
      "grid_area": null,
      "grid_auto_columns": null,
      "grid_auto_flow": null,
      "grid_auto_rows": null,
      "grid_column": null,
      "grid_gap": null,
      "grid_row": null,
      "grid_template_areas": null,
      "grid_template_columns": null,
      "grid_template_rows": null,
      "height": null,
      "justify_content": null,
      "justify_items": null,
      "left": null,
      "margin": null,
      "max_height": null,
      "max_width": null,
      "min_height": null,
      "min_width": null,
      "object_fit": null,
      "object_position": null,
      "order": null,
      "overflow": null,
      "overflow_x": null,
      "overflow_y": null,
      "padding": null,
      "right": null,
      "top": null,
      "visibility": null,
      "width": null
     }
    },
    "935b4b11eb7a4711a81e8876616db3d6": {
     "model_module": "@jupyter-widgets/base",
     "model_name": "LayoutModel",
     "state": {
      "_model_module": "@jupyter-widgets/base",
      "_model_module_version": "1.2.0",
      "_model_name": "LayoutModel",
      "_view_count": null,
      "_view_module": "@jupyter-widgets/base",
      "_view_module_version": "1.2.0",
      "_view_name": "LayoutView",
      "align_content": null,
      "align_items": null,
      "align_self": null,
      "border": null,
      "bottom": null,
      "display": null,
      "flex": null,
      "flex_flow": null,
      "grid_area": null,
      "grid_auto_columns": null,
      "grid_auto_flow": null,
      "grid_auto_rows": null,
      "grid_column": null,
      "grid_gap": null,
      "grid_row": null,
      "grid_template_areas": null,
      "grid_template_columns": null,
      "grid_template_rows": null,
      "height": null,
      "justify_content": null,
      "justify_items": null,
      "left": null,
      "margin": null,
      "max_height": null,
      "max_width": null,
      "min_height": null,
      "min_width": null,
      "object_fit": null,
      "object_position": null,
      "order": null,
      "overflow": null,
      "overflow_x": null,
      "overflow_y": null,
      "padding": null,
      "right": null,
      "top": null,
      "visibility": null,
      "width": null
     }
    },
    "a906db9c7148442eb62ca6b286971926": {
     "model_module": "@jupyter-widgets/controls",
     "model_name": "HTMLModel",
     "state": {
      "_dom_classes": [],
      "_model_module": "@jupyter-widgets/controls",
      "_model_module_version": "1.5.0",
      "_model_name": "HTMLModel",
      "_view_count": null,
      "_view_module": "@jupyter-widgets/controls",
      "_view_module_version": "1.5.0",
      "_view_name": "HTMLView",
      "description": "",
      "description_tooltip": null,
      "layout": "IPY_MODEL_cd2563f2f2b34ec197e5789f4c308dd1",
      "placeholder": "​",
      "style": "IPY_MODEL_21f750fdceb74be6bbacda33e9ec801d",
      "value": " 97.8M/97.8M [00:00&lt;00:00, 151MB/s]"
     }
    },
    "b266132461f74262b1fdd7ecd771f230": {
     "model_module": "@jupyter-widgets/controls",
     "model_name": "FloatProgressModel",
     "state": {
      "_dom_classes": [],
      "_model_module": "@jupyter-widgets/controls",
      "_model_module_version": "1.5.0",
      "_model_name": "FloatProgressModel",
      "_view_count": null,
      "_view_module": "@jupyter-widgets/controls",
      "_view_module_version": "1.5.0",
      "_view_name": "ProgressView",
      "bar_style": "success",
      "description": "100%",
      "description_tooltip": null,
      "layout": "IPY_MODEL_935b4b11eb7a4711a81e8876616db3d6",
      "max": 102502400,
      "min": 0,
      "orientation": "horizontal",
      "style": "IPY_MODEL_2f0252e51f1c44c98f052f5c024f3331",
      "value": 102502400
     }
    },
    "cd2563f2f2b34ec197e5789f4c308dd1": {
     "model_module": "@jupyter-widgets/base",
     "model_name": "LayoutModel",
     "state": {
      "_model_module": "@jupyter-widgets/base",
      "_model_module_version": "1.2.0",
      "_model_name": "LayoutModel",
      "_view_count": null,
      "_view_module": "@jupyter-widgets/base",
      "_view_module_version": "1.2.0",
      "_view_name": "LayoutView",
      "align_content": null,
      "align_items": null,
      "align_self": null,
      "border": null,
      "bottom": null,
      "display": null,
      "flex": null,
      "flex_flow": null,
      "grid_area": null,
      "grid_auto_columns": null,
      "grid_auto_flow": null,
      "grid_auto_rows": null,
      "grid_column": null,
      "grid_gap": null,
      "grid_row": null,
      "grid_template_areas": null,
      "grid_template_columns": null,
      "grid_template_rows": null,
      "height": null,
      "justify_content": null,
      "justify_items": null,
      "left": null,
      "margin": null,
      "max_height": null,
      "max_width": null,
      "min_height": null,
      "min_width": null,
      "object_fit": null,
      "object_position": null,
      "order": null,
      "overflow": null,
      "overflow_x": null,
      "overflow_y": null,
      "padding": null,
      "right": null,
      "top": null,
      "visibility": null,
      "width": null
     }
    },
    "dfd0720329f940e4a55dba6621bc4430": {
     "model_module": "@jupyter-widgets/controls",
     "model_name": "HBoxModel",
     "state": {
      "_dom_classes": [],
      "_model_module": "@jupyter-widgets/controls",
      "_model_module_version": "1.5.0",
      "_model_name": "HBoxModel",
      "_view_count": null,
      "_view_module": "@jupyter-widgets/controls",
      "_view_module_version": "1.5.0",
      "_view_name": "HBoxView",
      "box_style": "",
      "children": [
       "IPY_MODEL_b266132461f74262b1fdd7ecd771f230",
       "IPY_MODEL_a906db9c7148442eb62ca6b286971926"
      ],
      "layout": "IPY_MODEL_5c3678f3a6524a4f98c552f0cc019401"
     }
    }
   }
  }
 },
 "nbformat": 4,
 "nbformat_minor": 4
}
